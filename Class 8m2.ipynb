{
 "cells": [
  {
   "cell_type": "code",
   "execution_count": 14,
   "id": "1c1e0cb1",
   "metadata": {},
   "outputs": [
    {
     "name": "stdout",
     "output_type": "stream",
     "text": [
      "Enter Math mark: 34\n",
      "Enter English mark 56\n",
      "Not gift \n"
     ]
    }
   ],
   "source": [
    "m=int(input(\"Enter Math mark: \"))\n",
    "e=int(input(\"Enter English mark \"))\n",
    "if(m>=80):\n",
    "    print(\"Gift for Math\")\n",
    "elif e>=80:\n",
    "    print(\"Gift for English\")\n",
    "else:\n",
    "    print(\"Not gift \")"
   ]
  },
  {
   "cell_type": "code",
   "execution_count": 15,
   "id": "17ead395",
   "metadata": {},
   "outputs": [
    {
     "name": "stdout",
     "output_type": "stream",
     "text": [
      "Enter Year80\n",
      "Leap Year\n"
     ]
    }
   ],
   "source": [
    "x=int(input(\"Enter Year\"))\n",
    "if (x%400==0 or (x%4==0 and x%100!=0)):\n",
    "    print(\"Leap Year\")\n",
    "else:\n",
    "    print(\"Not a Leep Year\")"
   ]
  },
  {
   "cell_type": "code",
   "execution_count": 12,
   "id": "976ac62a",
   "metadata": {},
   "outputs": [
    {
     "name": "stdout",
     "output_type": "stream",
     "text": [
      "Enter marks64\n",
      "A-\n"
     ]
    }
   ],
   "source": [
    "m=int(input(\"Enter marks\"))\n",
    "if(m>=80):\n",
    "    print(\"A+\")\n",
    "elif m>=70 and m<80:\n",
    "    print(\"A\")\n",
    "elif m>=60 and m<70:\n",
    "    print(\"A-\")\n",
    "elif m>=50 and m<60:\n",
    "    print(\"B\")\n",
    "elif m>=40 and m<50:\n",
    "    print(\"C\")\n",
    "elif m>=33 and m<40:\n",
    "    print(\"D\")\n",
    "else:\n",
    "    print(\"F\")"
   ]
  },
  {
   "cell_type": "code",
   "execution_count": null,
   "id": "c39bc05b",
   "metadata": {},
   "outputs": [],
   "source": [
    "x=int(input(\"Enter a year \"))\n",
    "if(x%400==0 or (x%4==0 and x%100!=0)):\n",
    "    print(\"Leap Year\")\n",
    "else:\n",
    "    print(\"Not leap Yearc\")"
   ]
  },
  {
   "cell_type": "code",
   "execution_count": 17,
   "id": "4a46fffe",
   "metadata": {},
   "outputs": [
    {
     "name": "stdout",
     "output_type": "stream",
     "text": [
      "enter the year2023\n",
      "Not Leap Year\n"
     ]
    }
   ],
   "source": [
    "x=int(input(\"enter the year\"))\n",
    "if x%400==0 or (x%4==0 and x%100!=0):\n",
    "    print(\"Leap Year\")\n",
    "else:\n",
    "    print(\"Not Leap Year\")"
   ]
  },
  {
   "cell_type": "code",
   "execution_count": null,
   "id": "152a4965",
   "metadata": {},
   "outputs": [],
   "source": []
  },
  {
   "cell_type": "code",
   "execution_count": null,
   "id": "ab4a8fde",
   "metadata": {},
   "outputs": [],
   "source": []
  }
 ],
 "metadata": {
  "kernelspec": {
   "display_name": "Python 3 (ipykernel)",
   "language": "python",
   "name": "python3"
  },
  "language_info": {
   "codemirror_mode": {
    "name": "ipython",
    "version": 3
   },
   "file_extension": ".py",
   "mimetype": "text/x-python",
   "name": "python",
   "nbconvert_exporter": "python",
   "pygments_lexer": "ipython3",
   "version": "3.11.5"
  }
 },
 "nbformat": 4,
 "nbformat_minor": 5
}
