{
 "cells": [
  {
   "cell_type": "code",
   "execution_count": 4,
   "id": "31910c1d",
   "metadata": {},
   "outputs": [
    {
     "name": "stdout",
     "output_type": "stream",
     "text": [
      "8\n"
     ]
    }
   ],
   "source": [
    "a=4\n",
    "a+=a\n",
    "print(a)"
   ]
  },
  {
   "cell_type": "code",
   "execution_count": 8,
   "id": "5da42b81",
   "metadata": {},
   "outputs": [
    {
     "name": "stdout",
     "output_type": "stream",
     "text": [
      "Enter a number 6\n",
      "False\n"
     ]
    }
   ],
   "source": [
    "x=int(input(\"Enter a number \"))\n",
    "print(x%2==0)"
   ]
  },
  {
   "cell_type": "code",
   "execution_count": 10,
   "id": "292c47a8",
   "metadata": {},
   "outputs": [
    {
     "name": "stdout",
     "output_type": "stream",
     "text": [
      "Enter Marks 34\n",
      "Enter Attendence 77\n",
      "True\n"
     ]
    }
   ],
   "source": [
    "m=int(input(\"Enter Marks \"))\n",
    "n=int(input(\"Enter Attendence \"))\n",
    "print(m>=33 and n>=75)\n"
   ]
  },
  {
   "cell_type": "code",
   "execution_count": 11,
   "id": "a0cb1781",
   "metadata": {},
   "outputs": [
    {
     "name": "stdout",
     "output_type": "stream",
     "text": [
      "1\n"
     ]
    }
   ],
   "source": [
    "print(7%3)"
   ]
  },
  {
   "cell_type": "code",
   "execution_count": 15,
   "id": "c4c3a85c",
   "metadata": {},
   "outputs": [
    {
     "name": "stdout",
     "output_type": "stream",
     "text": [
      "Ente redus of circle5.5\n",
      "Ariea of circle is :  95.0334\n"
     ]
    }
   ],
   "source": [
    "r=float(input(\"Ente redus of circle\"))\n",
    "print(\"Ariea of circle is : \",3.1416*r**2)"
   ]
  },
  {
   "cell_type": "code",
   "execution_count": 17,
   "id": "446e7fdd",
   "metadata": {},
   "outputs": [
    {
     "name": "stdout",
     "output_type": "stream",
     "text": [
      "3\n"
     ]
    }
   ],
   "source": [
    "print(14//4)"
   ]
  },
  {
   "cell_type": "code",
   "execution_count": 4,
   "id": "5cb80113",
   "metadata": {},
   "outputs": [
    {
     "name": "stdout",
     "output_type": "stream",
     "text": [
      "Enter a number 9\n",
      "False\n"
     ]
    }
   ],
   "source": [
    "a=int(input(\"Enter a number \"))\n",
    "print(a%2==0)"
   ]
  },
  {
   "cell_type": "code",
   "execution_count": 22,
   "id": "0508a9cb",
   "metadata": {},
   "outputs": [],
   "source": [
    "x=4\n",
    "y=5\n",
    "x+=y"
   ]
  },
  {
   "cell_type": "code",
   "execution_count": 21,
   "id": "bb8db764",
   "metadata": {},
   "outputs": [
    {
     "name": "stdout",
     "output_type": "stream",
     "text": [
      "9\n"
     ]
    }
   ],
   "source": [
    "print(x)"
   ]
  },
  {
   "cell_type": "code",
   "execution_count": 8,
   "id": "ab1f3fbb",
   "metadata": {},
   "outputs": [
    {
     "name": "stdout",
     "output_type": "stream",
     "text": [
      "35\n"
     ]
    }
   ],
   "source": [
    "a=5\n",
    "b=7\n",
    "a*=b\n",
    "print(a)"
   ]
  },
  {
   "cell_type": "code",
   "execution_count": null,
   "id": "4ad52278",
   "metadata": {},
   "outputs": [],
   "source": []
  }
 ],
 "metadata": {
  "kernelspec": {
   "display_name": "Python 3 (ipykernel)",
   "language": "python",
   "name": "python3"
  },
  "language_info": {
   "codemirror_mode": {
    "name": "ipython",
    "version": 3
   },
   "file_extension": ".py",
   "mimetype": "text/x-python",
   "name": "python",
   "nbconvert_exporter": "python",
   "pygments_lexer": "ipython3",
   "version": "3.11.5"
  }
 },
 "nbformat": 4,
 "nbformat_minor": 5
}
