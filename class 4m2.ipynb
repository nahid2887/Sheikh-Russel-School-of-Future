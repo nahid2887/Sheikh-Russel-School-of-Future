{
 "cells": [
  {
   "cell_type": "code",
   "execution_count": 11,
   "id": "b8315856",
   "metadata": {},
   "outputs": [
    {
     "name": "stdout",
     "output_type": "stream",
     "text": [
      "<class 'str'>\n"
     ]
    }
   ],
   "source": [
    "a=\"nahid\"\n",
    "print(type(a))"
   ]
  },
  {
   "cell_type": "code",
   "execution_count": 12,
   "id": "4fd80528",
   "metadata": {},
   "outputs": [
    {
     "name": "stdout",
     "output_type": "stream",
     "text": [
      "<class 'int'>\n"
     ]
    }
   ],
   "source": [
    "b=-3\n",
    "print(type(b))"
   ]
  },
  {
   "cell_type": "code",
   "execution_count": 3,
   "id": "85a6a388",
   "metadata": {},
   "outputs": [
    {
     "name": "stdout",
     "output_type": "stream",
     "text": [
      "<class 'float'>\n"
     ]
    }
   ],
   "source": [
    "c=2.3\n",
    "print(type(c))"
   ]
  },
  {
   "cell_type": "code",
   "execution_count": 7,
   "id": "9d34d410",
   "metadata": {},
   "outputs": [
    {
     "name": "stdout",
     "output_type": "stream",
     "text": [
      "enter your school Name: d\n",
      "My school Name Is  d\n",
      "<class 'str'>\n"
     ]
    }
   ],
   "source": [
    "sname=input(\"enter your school Name: \")\n",
    "print(\"My school Name Is \", sname)\n",
    "print(type(sname))"
   ]
  },
  {
   "cell_type": "code",
   "execution_count": 8,
   "id": "44174213",
   "metadata": {},
   "outputs": [
    {
     "name": "stdout",
     "output_type": "stream",
     "text": [
      "enter a number78\n",
      "enter a number99\n",
      "The sum is  177\n"
     ]
    }
   ],
   "source": [
    "s=int(input(\"enter a number \"))\n",
    "n=int(input(\"enter a number \"))\n",
    "print(\"The sum is \", s+n)"
   ]
  },
  {
   "cell_type": "code",
   "execution_count": 10,
   "id": "f1c59da8",
   "metadata": {},
   "outputs": [
    {
     "name": "stdout",
     "output_type": "stream",
     "text": [
      "Enter lrngth: 4.7\n",
      "Enter width: 8.5\n",
      "The Ariea Is  39.95\n"
     ]
    }
   ],
   "source": [
    "l=float(input(\"Enter length: \"))\n",
    "w=float(input(\"Enter width: \"))\n",
    "print(\"The Ariea Is \", l*w)"
   ]
  },
  {
   "cell_type": "code",
   "execution_count": 13,
   "id": "7b36c60b",
   "metadata": {},
   "outputs": [
    {
     "name": "stdout",
     "output_type": "stream",
     "text": [
      "<class 'str'>\n"
     ]
    }
   ],
   "source": [
    "d=\"eu\"\n",
    "print(type(d))"
   ]
  },
  {
   "cell_type": "code",
   "execution_count": 14,
   "id": "008b2ac4",
   "metadata": {},
   "outputs": [
    {
     "name": "stdout",
     "output_type": "stream",
     "text": [
      "<class 'int'>\n"
     ]
    }
   ],
   "source": [
    "r=7\n",
    "print(type(r))"
   ]
  },
  {
   "cell_type": "code",
   "execution_count": 15,
   "id": "85ef434c",
   "metadata": {},
   "outputs": [
    {
     "name": "stdout",
     "output_type": "stream",
     "text": [
      "Enter your name : Nahid\n",
      "My name is  Nahid\n"
     ]
    }
   ],
   "source": [
    "name=input(\"Enter your name : \")\n",
    "print(\"My name is \", name)"
   ]
  },
  {
   "cell_type": "code",
   "execution_count": 17,
   "id": "55812c3b",
   "metadata": {},
   "outputs": [
    {
     "name": "stdout",
     "output_type": "stream",
     "text": [
      "enter 1st Number 56\n",
      "enter 2nd Number 34\n",
      "sum Is  90\n",
      "sub is  22\n"
     ]
    }
   ],
   "source": [
    "a=int(input(\"enter 1st Number \"))\n",
    "b=int(input(\"enter 2nd Number \"))\n",
    "print(\"sum Is \",a+b)\n",
    "print(\"sub is \",a-b)"
   ]
  },
  {
   "cell_type": "code",
   "execution_count": 18,
   "id": "908fe305",
   "metadata": {},
   "outputs": [
    {
     "name": "stdout",
     "output_type": "stream",
     "text": [
      "Enter Length 4.5\n",
      "Enter width6.7\n",
      "The area Is  30.150000000000002\n"
     ]
    }
   ],
   "source": [
    "a=float(input(\"Enter Length \"))\n",
    "b=float(input(\"Enter width\"))\n",
    "print(\"The area Is \", a*b)"
   ]
  },
  {
   "cell_type": "code",
   "execution_count": null,
   "id": "51025491",
   "metadata": {},
   "outputs": [],
   "source": []
  }
 ],
 "metadata": {
  "kernelspec": {
   "display_name": "Python 3 (ipykernel)",
   "language": "python",
   "name": "python3"
  },
  "language_info": {
   "codemirror_mode": {
    "name": "ipython",
    "version": 3
   },
   "file_extension": ".py",
   "mimetype": "text/x-python",
   "name": "python",
   "nbconvert_exporter": "python",
   "pygments_lexer": "ipython3",
   "version": "3.11.5"
  }
 },
 "nbformat": 4,
 "nbformat_minor": 5
}
