{
 "cells": [
  {
   "cell_type": "code",
   "execution_count": 1,
   "id": "5ee56941",
   "metadata": {},
   "outputs": [
    {
     "name": "stdout",
     "output_type": "stream",
     "text": [
      "9\n",
      "8\n"
     ]
    }
   ],
   "source": [
    "a=8\n",
    "b=9\n",
    "c=a\n",
    "a=b\n",
    "b=c\n",
    "print(a)\n",
    "print(b)\n"
   ]
  },
  {
   "cell_type": "code",
   "execution_count": 2,
   "id": "bc2ba27e",
   "metadata": {},
   "outputs": [
    {
     "name": "stdout",
     "output_type": "stream",
     "text": [
      "9\n",
      "6\n"
     ]
    }
   ],
   "source": [
    "m=6\n",
    "n=9\n",
    "m=m+n \n",
    "n=m-n \n",
    "m=m-n \n",
    "print(m)\n",
    "print(n)"
   ]
  },
  {
   "cell_type": "code",
   "execution_count": 5,
   "id": "3636c156",
   "metadata": {},
   "outputs": [
    {
     "name": "stdout",
     "output_type": "stream",
     "text": [
      "5\n",
      "8\n"
     ]
    }
   ],
   "source": [
    "l=8\n",
    "n=5\n",
    "(l,n)=(n,l)\n",
    "print(l)\n",
    "print(n)"
   ]
  },
  {
   "cell_type": "code",
   "execution_count": 7,
   "id": "c6575c3c",
   "metadata": {},
   "outputs": [
    {
     "data": {
      "text/plain": [
       "True"
      ]
     },
     "execution_count": 7,
     "metadata": {},
     "output_type": "execute_result"
    }
   ],
   "source": [
    "2+3!=4+2"
   ]
  },
  {
   "cell_type": "code",
   "execution_count": 9,
   "id": "9bcb5e17",
   "metadata": {},
   "outputs": [
    {
     "data": {
      "text/plain": [
       "True"
      ]
     },
     "execution_count": 9,
     "metadata": {},
     "output_type": "execute_result"
    }
   ],
   "source": [
    "5<7"
   ]
  },
  {
   "cell_type": "code",
   "execution_count": 13,
   "id": "1c282441",
   "metadata": {},
   "outputs": [
    {
     "data": {
      "text/plain": [
       "False"
      ]
     },
     "execution_count": 13,
     "metadata": {},
     "output_type": "execute_result"
    }
   ],
   "source": [
    "5<=4"
   ]
  },
  {
   "cell_type": "code",
   "execution_count": 19,
   "id": "652879a3",
   "metadata": {},
   "outputs": [
    {
     "name": "stdout",
     "output_type": "stream",
     "text": [
      "7\n",
      "8\n"
     ]
    }
   ],
   "source": [
    "a=int(input())\n",
    "b=int(input())\n",
    "\n",
    "if(a%2==0 or b%2!=0 ):\n",
    "    print(a)\n",
    "    print(b)"
   ]
  },
  {
   "cell_type": "code",
   "execution_count": 25,
   "id": "dbd1fb05",
   "metadata": {},
   "outputs": [
    {
     "name": "stdout",
     "output_type": "stream",
     "text": [
      "False\n"
     ]
    }
   ],
   "source": [
    "print(bool())"
   ]
  },
  {
   "cell_type": "code",
   "execution_count": 21,
   "id": "16167178",
   "metadata": {},
   "outputs": [
    {
     "name": "stdout",
     "output_type": "stream",
     "text": [
      "True\n"
     ]
    }
   ],
   "source": [
    "print(bool(4==2+2))"
   ]
  },
  {
   "cell_type": "code",
   "execution_count": 27,
   "id": "4d837fb4",
   "metadata": {},
   "outputs": [
    {
     "name": "stdout",
     "output_type": "stream",
     "text": [
      "4\n"
     ]
    }
   ],
   "source": [
    "print(4%9)"
   ]
  },
  {
   "cell_type": "code",
   "execution_count": 30,
   "id": "8cf888c7",
   "metadata": {},
   "outputs": [
    {
     "name": "stdout",
     "output_type": "stream",
     "text": [
      "7\n",
      "True\n"
     ]
    }
   ],
   "source": [
    "a=int(input())\n",
    "print(bool(a%2!=0))"
   ]
  },
  {
   "cell_type": "code",
   "execution_count": 32,
   "id": "891cd2c1",
   "metadata": {},
   "outputs": [
    {
     "name": "stdout",
     "output_type": "stream",
     "text": [
      "64\n"
     ]
    }
   ],
   "source": [
    "print(4**3)"
   ]
  },
  {
   "cell_type": "code",
   "execution_count": 33,
   "id": "e0327e22",
   "metadata": {},
   "outputs": [
    {
     "name": "stdout",
     "output_type": "stream",
     "text": [
      "16\n"
     ]
    }
   ],
   "source": [
    "print(pow(4,2))"
   ]
  },
  {
   "cell_type": "code",
   "execution_count": 37,
   "id": "a533a0fa",
   "metadata": {},
   "outputs": [
    {
     "name": "stdout",
     "output_type": "stream",
     "text": [
      "2\n"
     ]
    }
   ],
   "source": [
    "print(5//2)"
   ]
  },
  {
   "cell_type": "code",
   "execution_count": 38,
   "id": "7d52eb5e",
   "metadata": {},
   "outputs": [
    {
     "name": "stdout",
     "output_type": "stream",
     "text": [
      "6\n",
      "9\n"
     ]
    }
   ],
   "source": [
    "a=9\n",
    "b=6\n",
    "c=a #9\n",
    "a=b#6\n",
    "b=c#9\n",
    "print(a)\n",
    "print(b)\n"
   ]
  },
  {
   "cell_type": "code",
   "execution_count": 39,
   "id": "d78b649c",
   "metadata": {},
   "outputs": [
    {
     "name": "stdout",
     "output_type": "stream",
     "text": [
      "6\n",
      "4\n"
     ]
    }
   ],
   "source": [
    "a=4\n",
    "b=6\n",
    "a=a+b #10\n",
    "b=a-b #4\n",
    "a=a-b #6\n",
    "print(a)\n",
    "print(b)\n"
   ]
  },
  {
   "cell_type": "markdown",
   "id": "028a498e",
   "metadata": {},
   "source": [
    "a=6\n",
    "b"
   ]
  },
  {
   "cell_type": "code",
   "execution_count": 40,
   "id": "67ce8dcf",
   "metadata": {},
   "outputs": [
    {
     "name": "stdout",
     "output_type": "stream",
     "text": [
      "8\n",
      "6\n"
     ]
    }
   ],
   "source": [
    "a=6\n",
    "b=8\n",
    "(a,b)=(b,a)\n",
    "print(a)\n",
    "print(b)"
   ]
  },
  {
   "cell_type": "code",
   "execution_count": 41,
   "id": "a81842b5",
   "metadata": {},
   "outputs": [
    {
     "data": {
      "text/plain": [
       "True"
      ]
     },
     "execution_count": 41,
     "metadata": {},
     "output_type": "execute_result"
    }
   ],
   "source": [
    "2+2==3+1"
   ]
  },
  {
   "cell_type": "code",
   "execution_count": 42,
   "id": "2a8abc63",
   "metadata": {},
   "outputs": [
    {
     "data": {
      "text/plain": [
       "True"
      ]
     },
     "execution_count": 42,
     "metadata": {},
     "output_type": "execute_result"
    }
   ],
   "source": [
    "5!=10"
   ]
  },
  {
   "cell_type": "code",
   "execution_count": 47,
   "id": "06b2d95b",
   "metadata": {},
   "outputs": [
    {
     "data": {
      "text/plain": [
       "True"
      ]
     },
     "execution_count": 47,
     "metadata": {},
     "output_type": "execute_result"
    }
   ],
   "source": [
    "5>=5"
   ]
  },
  {
   "cell_type": "code",
   "execution_count": 52,
   "id": "058f1a47",
   "metadata": {},
   "outputs": [
    {
     "name": "stdout",
     "output_type": "stream",
     "text": [
      "4\n",
      "4\n"
     ]
    }
   ],
   "source": [
    "x=int(input())\n",
    "if(x>=5 and x<10 ):\n",
    "    print(x)"
   ]
  },
  {
   "cell_type": "code",
   "execution_count": 54,
   "id": "a11add3c",
   "metadata": {},
   "outputs": [
    {
     "name": "stdout",
     "output_type": "stream",
     "text": [
      "False\n"
     ]
    }
   ],
   "source": [
    "print(bool())"
   ]
  },
  {
   "cell_type": "code",
   "execution_count": 56,
   "id": "f7064bf3",
   "metadata": {},
   "outputs": [
    {
     "name": "stdout",
     "output_type": "stream",
     "text": [
      "False\n"
     ]
    }
   ],
   "source": [
    "print(bool(5==4))"
   ]
  },
  {
   "cell_type": "code",
   "execution_count": 58,
   "id": "4ab2a922",
   "metadata": {},
   "outputs": [
    {
     "name": "stdout",
     "output_type": "stream",
     "text": [
      "5\n"
     ]
    }
   ],
   "source": [
    "print(5%7)"
   ]
  },
  {
   "cell_type": "code",
   "execution_count": 60,
   "id": "bdebbe5e",
   "metadata": {},
   "outputs": [
    {
     "name": "stdout",
     "output_type": "stream",
     "text": [
      "5\n",
      "False\n"
     ]
    }
   ],
   "source": [
    "x=int(input())\n",
    "print(bool(x%2==0))"
   ]
  },
  {
   "cell_type": "code",
   "execution_count": 61,
   "id": "6f69bc2c",
   "metadata": {},
   "outputs": [
    {
     "name": "stdout",
     "output_type": "stream",
     "text": [
      "9\n",
      "True\n"
     ]
    }
   ],
   "source": [
    "x=int(input())\n",
    "print(bool(x%2!=0))"
   ]
  },
  {
   "cell_type": "code",
   "execution_count": 62,
   "id": "35978076",
   "metadata": {},
   "outputs": [
    {
     "name": "stdout",
     "output_type": "stream",
     "text": [
      "16\n"
     ]
    }
   ],
   "source": [
    "print(4**2)"
   ]
  },
  {
   "cell_type": "code",
   "execution_count": 63,
   "id": "8b6a0316",
   "metadata": {},
   "outputs": [
    {
     "name": "stdout",
     "output_type": "stream",
     "text": [
      "8\n"
     ]
    }
   ],
   "source": [
    "print(2**3)"
   ]
  },
  {
   "cell_type": "code",
   "execution_count": 64,
   "id": "c1b9222f",
   "metadata": {},
   "outputs": [
    {
     "name": "stdout",
     "output_type": "stream",
     "text": [
      "8\n"
     ]
    }
   ],
   "source": [
    "print(pow(2,3))"
   ]
  },
  {
   "cell_type": "code",
   "execution_count": 65,
   "id": "654f86db",
   "metadata": {},
   "outputs": [
    {
     "name": "stdout",
     "output_type": "stream",
     "text": [
      "5\n",
      "78.53999999999999\n"
     ]
    }
   ],
   "source": [
    "r=int(input())\n",
    "print(3.1416*(r**2))"
   ]
  },
  {
   "cell_type": "code",
   "execution_count": 68,
   "id": "b00ba9ff",
   "metadata": {},
   "outputs": [
    {
     "name": "stdout",
     "output_type": "stream",
     "text": [
      "2\n"
     ]
    }
   ],
   "source": [
    "print(5//2)"
   ]
  },
  {
   "cell_type": "code",
   "execution_count": 2,
   "id": "9c1f4672",
   "metadata": {},
   "outputs": [
    {
     "data": {
      "text/plain": [
       "False"
      ]
     },
     "execution_count": 2,
     "metadata": {},
     "output_type": "execute_result"
    }
   ],
   "source": [
    "4!=2+2"
   ]
  },
  {
   "cell_type": "code",
   "execution_count": 3,
   "id": "013be6ad",
   "metadata": {},
   "outputs": [
    {
     "data": {
      "text/plain": [
       "False"
      ]
     },
     "execution_count": 3,
     "metadata": {},
     "output_type": "execute_result"
    }
   ],
   "source": [
    "4>7"
   ]
  },
  {
   "cell_type": "code",
   "execution_count": 14,
   "id": "d37a1861",
   "metadata": {},
   "outputs": [
    {
     "name": "stdout",
     "output_type": "stream",
     "text": [
      "12\n"
     ]
    }
   ],
   "source": [
    "x=int(input())"
   ]
  },
  {
   "cell_type": "code",
   "execution_count": 15,
   "id": "22424dac",
   "metadata": {},
   "outputs": [
    {
     "name": "stdout",
     "output_type": "stream",
     "text": [
      "12\n"
     ]
    }
   ],
   "source": [
    "\n",
    "if(x>18 or x<20):\n",
    "    print(x)"
   ]
  },
  {
   "cell_type": "code",
   "execution_count": 16,
   "id": "41723322",
   "metadata": {},
   "outputs": [],
   "source": [
    "if(x>18 and x<20):\n",
    "    print(x)"
   ]
  },
  {
   "cell_type": "code",
   "execution_count": 17,
   "id": "b627ee75",
   "metadata": {},
   "outputs": [
    {
     "name": "stdout",
     "output_type": "stream",
     "text": [
      "True\n"
     ]
    }
   ],
   "source": [
    "print(bool(\"Hi\"))"
   ]
  },
  {
   "cell_type": "code",
   "execution_count": 18,
   "id": "074b1095",
   "metadata": {},
   "outputs": [
    {
     "name": "stdout",
     "output_type": "stream",
     "text": [
      "False\n"
     ]
    }
   ],
   "source": [
    "print(bool())"
   ]
  },
  {
   "cell_type": "code",
   "execution_count": 22,
   "id": "6c65966a",
   "metadata": {},
   "outputs": [
    {
     "name": "stdout",
     "output_type": "stream",
     "text": [
      "True\n"
     ]
    }
   ],
   "source": [
    "print(bool(4==4))"
   ]
  },
  {
   "cell_type": "code",
   "execution_count": 20,
   "id": "53d38583",
   "metadata": {},
   "outputs": [
    {
     "name": "stdout",
     "output_type": "stream",
     "text": [
      "5\n"
     ]
    }
   ],
   "source": [
    "print(5%7)"
   ]
  },
  {
   "cell_type": "code",
   "execution_count": 21,
   "id": "7c6bbc2f",
   "metadata": {},
   "outputs": [
    {
     "name": "stdout",
     "output_type": "stream",
     "text": [
      "2\n"
     ]
    }
   ],
   "source": [
    "print(7%5)"
   ]
  },
  {
   "cell_type": "code",
   "execution_count": 26,
   "id": "3a52071e",
   "metadata": {},
   "outputs": [
    {
     "name": "stdout",
     "output_type": "stream",
     "text": [
      "6\n",
      "False\n"
     ]
    }
   ],
   "source": [
    "x=int(input())\n",
    "print(bool(x%2!=0))"
   ]
  },
  {
   "cell_type": "code",
   "execution_count": 30,
   "id": "b926953f",
   "metadata": {},
   "outputs": [
    {
     "name": "stdout",
     "output_type": "stream",
     "text": [
      "125\n"
     ]
    }
   ],
   "source": [
    "print(5**3)\n"
   ]
  },
  {
   "cell_type": "code",
   "execution_count": 29,
   "id": "d5ab4cbf",
   "metadata": {},
   "outputs": [
    {
     "name": "stdout",
     "output_type": "stream",
     "text": [
      "2\n"
     ]
    }
   ],
   "source": [
    "print(5//2)"
   ]
  },
  {
   "cell_type": "code",
   "execution_count": 31,
   "id": "e11418d7",
   "metadata": {},
   "outputs": [
    {
     "name": "stdout",
     "output_type": "stream",
     "text": [
      "16\n"
     ]
    }
   ],
   "source": [
    "print(pow(4,2))"
   ]
  },
  {
   "cell_type": "code",
   "execution_count": null,
   "id": "6553292e",
   "metadata": {},
   "outputs": [],
   "source": []
  }
 ],
 "metadata": {
  "kernelspec": {
   "display_name": "Python 3 (ipykernel)",
   "language": "python",
   "name": "python3"
  },
  "language_info": {
   "codemirror_mode": {
    "name": "ipython",
    "version": 3
   },
   "file_extension": ".py",
   "mimetype": "text/x-python",
   "name": "python",
   "nbconvert_exporter": "python",
   "pygments_lexer": "ipython3",
   "version": "3.11.5"
  }
 },
 "nbformat": 4,
 "nbformat_minor": 5
}
