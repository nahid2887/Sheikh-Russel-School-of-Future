{
 "cells": [
  {
   "cell_type": "code",
   "execution_count": 1,
   "id": "373b58d3",
   "metadata": {},
   "outputs": [
    {
     "name": "stdout",
     "output_type": "stream",
     "text": [
      "Enter number 70\n",
      "Not get prize\n"
     ]
    }
   ],
   "source": [
    "n=int(input(\"Enter number \"))\n",
    "if n>=80:\n",
    "    print(\"Get prize\")\n",
    "else:\n",
    "    print(\"Not get prize\")"
   ]
  },
  {
   "cell_type": "code",
   "execution_count": 2,
   "id": "f819f692",
   "metadata": {},
   "outputs": [
    {
     "name": "stdout",
     "output_type": "stream",
     "text": [
      "Enter a number56\n",
      "even number\n"
     ]
    }
   ],
   "source": [
    "a=int(input(\"Enter a number \"))\n",
    "if a%2==0:\n",
    "    print(\"even number\")\n",
    "else:\n",
    "    print(\"Odd Number\")"
   ]
  },
  {
   "cell_type": "code",
   "execution_count": 3,
   "id": "1b6201e2",
   "metadata": {},
   "outputs": [
    {
     "name": "stdout",
     "output_type": "stream",
     "text": [
      "Enter your Number 67\n",
      "Not Prize\n"
     ]
    }
   ],
   "source": [
    "m=int(input(\"Enter your Number \"))\n",
    "if(m>=80):\n",
    "    print(\"Get prize\")\n",
    "else:\n",
    "    print(\"Not Prize\")"
   ]
  },
  {
   "cell_type": "code",
   "execution_count": 5,
   "id": "7d2e2d48",
   "metadata": {},
   "outputs": [
    {
     "name": "stdout",
     "output_type": "stream",
     "text": [
      "Enter Marks: 54\n",
      "not get prize\n"
     ]
    }
   ],
   "source": [
    "m=int(input(\"Enter Marks: \"))\n",
    "if m>=80:\n",
    "    print(\"Get Prize\")\n",
    "else:\n",
    "    print(\"not get prize\")"
   ]
  },
  {
   "cell_type": "code",
   "execution_count": null,
   "id": "44e1cbb5",
   "metadata": {},
   "outputs": [],
   "source": []
  }
 ],
 "metadata": {
  "kernelspec": {
   "display_name": "Python 3 (ipykernel)",
   "language": "python",
   "name": "python3"
  },
  "language_info": {
   "codemirror_mode": {
    "name": "ipython",
    "version": 3
   },
   "file_extension": ".py",
   "mimetype": "text/x-python",
   "name": "python",
   "nbconvert_exporter": "python",
   "pygments_lexer": "ipython3",
   "version": "3.11.5"
  }
 },
 "nbformat": 4,
 "nbformat_minor": 5
}
