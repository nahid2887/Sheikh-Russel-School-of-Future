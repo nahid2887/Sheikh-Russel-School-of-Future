{
 "cells": [
  {
   "cell_type": "code",
   "execution_count": 17,
   "id": "5c6efa4c",
   "metadata": {},
   "outputs": [
    {
     "name": "stdout",
     "output_type": "stream",
     "text": [
      "1\n",
      "2\n",
      "3\n",
      "4\n",
      "5\n",
      "6\n",
      "7\n",
      "8\n",
      "9\n",
      "10\n",
      "11\n",
      "12\n",
      "13\n",
      "14\n",
      "15\n",
      "16\n",
      "17\n",
      "18\n",
      "19\n",
      "20\n",
      "21\n",
      "22\n",
      "23\n",
      "24\n",
      "25\n",
      "26\n",
      "27\n",
      "28\n",
      "29\n",
      "30\n",
      "31\n",
      "32\n",
      "33\n",
      "34\n",
      "35\n",
      "36\n",
      "37\n",
      "38\n",
      "39\n",
      "40\n",
      "41\n",
      "42\n",
      "43\n",
      "44\n",
      "45\n",
      "46\n",
      "47\n",
      "48\n",
      "49\n",
      "50\n",
      "51\n",
      "52\n",
      "53\n",
      "54\n",
      "55\n",
      "56\n",
      "57\n",
      "58\n",
      "59\n",
      "60\n",
      "61\n",
      "62\n",
      "63\n",
      "64\n",
      "65\n",
      "66\n",
      "67\n",
      "68\n",
      "69\n",
      "70\n",
      "71\n",
      "72\n",
      "73\n",
      "74\n",
      "75\n",
      "76\n",
      "77\n",
      "78\n",
      "79\n",
      "80\n",
      "81\n",
      "82\n",
      "83\n",
      "84\n",
      "85\n",
      "86\n",
      "87\n",
      "88\n",
      "89\n",
      "90\n",
      "91\n",
      "92\n",
      "93\n",
      "94\n",
      "95\n",
      "96\n",
      "97\n",
      "98\n",
      "99\n",
      "100\n"
     ]
    }
   ],
   "source": [
    "\n",
    "i=1\n",
    "while i<=100:\n",
    "    print(i)\n",
    "    i+=1\n",
    "\n",
    "    "
   ]
  },
  {
   "cell_type": "code",
   "execution_count": 14,
   "id": "77dada0b",
   "metadata": {},
   "outputs": [
    {
     "name": "stdout",
     "output_type": "stream",
     "text": [
      "2500\n"
     ]
    }
   ],
   "source": [
    "s=0\n",
    "for i in range (1,101,2):\n",
    "    s+=i\n",
    "print(s)"
   ]
  },
  {
   "cell_type": "code",
   "execution_count": 37,
   "id": "87cd9548",
   "metadata": {},
   "outputs": [
    {
     "name": "stdout",
     "output_type": "stream",
     "text": [
      "The roll number is  20\n",
      "Enter Bangla Mark : 78\n",
      "Bellow A+ In Bangla\n",
      "Enter English Number 78\n",
      "bellow A+ in English\n",
      "Enter Math Number 65\n",
      "Not get A+ in Math\n",
      "The roll number is  21\n",
      "Enter Bangla Mark : 34\n",
      "Bellow A+ In Bangla\n",
      "Enter English Number 67\n",
      "bellow A+ in English\n",
      "Enter Math Number 567\n",
      "Get A+ in Math\n",
      "The roll number is  22\n",
      "Enter Bangla Mark : 78\n",
      "Bellow A+ In Bangla\n",
      "Enter English Number 98\n",
      "Get A+ in English\n",
      "Enter Math Number 87\n",
      "Get A+ in Math\n"
     ]
    }
   ],
   "source": [
    "for i in range (20,23):\n",
    "    print(\"The roll number is \", i)\n",
    "    for j in range (3):\n",
    "        if j==0:\n",
    "            b=int(input(\"Enter Bangla Mark : \"))\n",
    "            if b>=80:\n",
    "                print(\"Get A+ in Bangla\")\n",
    "            else:\n",
    "                print(\"Bellow A+ In Bangla\")\n",
    "        elif j==1:\n",
    "            e=int(input(\"Enter English Number \"))\n",
    "            if e>=80:\n",
    "                print(\"Get A+ in English\")\n",
    "            else:\n",
    "                print(\"bellow A+ in English\")\n",
    "        else:\n",
    "            m=int(input(\"Enter Math Number \"))\n",
    "            if m>=80:\n",
    "                print(\"Get A+ in Math\")\n",
    "            else:\n",
    "                print(\"Not get A+ in Math\")"
   ]
  },
  {
   "cell_type": "code",
   "execution_count": 33,
   "id": "c09f034e",
   "metadata": {},
   "outputs": [
    {
     "name": "stdout",
     "output_type": "stream",
     "text": [
      "1\n",
      "3\n",
      "5\n",
      "7\n",
      "9\n",
      "11\n",
      "13\n",
      "15\n",
      "17\n",
      "19\n",
      "21\n",
      "23\n",
      "25\n",
      "27\n",
      "29\n",
      "31\n",
      "33\n",
      "35\n",
      "37\n",
      "39\n",
      "41\n",
      "43\n",
      "45\n",
      "47\n",
      "49\n",
      "51\n",
      "53\n",
      "55\n",
      "57\n",
      "59\n",
      "61\n",
      "63\n",
      "65\n",
      "67\n",
      "69\n",
      "71\n",
      "73\n",
      "75\n",
      "77\n",
      "79\n",
      "81\n",
      "83\n",
      "85\n",
      "87\n",
      "89\n",
      "91\n",
      "93\n",
      "95\n",
      "97\n",
      "99\n"
     ]
    }
   ],
   "source": [
    "for i in range (1,101,2):\n",
    "    print(i)"
   ]
  },
  {
   "cell_type": "markdown",
   "id": "0b7812c1",
   "metadata": {},
   "source": [
    "for i in range (50 , 101,2):\n",
    "    print(i)"
   ]
  },
  {
   "cell_type": "code",
   "execution_count": 36,
   "id": "d6d1f74f",
   "metadata": {},
   "outputs": [
    {
     "name": "stdout",
     "output_type": "stream",
     "text": [
      "2500\n"
     ]
    }
   ],
   "source": [
    "s=0\n",
    "for i in range (1,101,2):\n",
    "    s+=i\n",
    "print(s)"
   ]
  },
  {
   "cell_type": "code",
   "execution_count": null,
   "id": "910ff181",
   "metadata": {},
   "outputs": [],
   "source": []
  },
  {
   "cell_type": "code",
   "execution_count": null,
   "id": "cb6f651f",
   "metadata": {},
   "outputs": [],
   "source": []
  }
 ],
 "metadata": {
  "kernelspec": {
   "display_name": "Python 3 (ipykernel)",
   "language": "python",
   "name": "python3"
  },
  "language_info": {
   "codemirror_mode": {
    "name": "ipython",
    "version": 3
   },
   "file_extension": ".py",
   "mimetype": "text/x-python",
   "name": "python",
   "nbconvert_exporter": "python",
   "pygments_lexer": "ipython3",
   "version": "3.11.5"
  }
 },
 "nbformat": 4,
 "nbformat_minor": 5
}
