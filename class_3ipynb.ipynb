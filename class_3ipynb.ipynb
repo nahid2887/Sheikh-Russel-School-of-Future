{
  "nbformat": 4,
  "nbformat_minor": 0,
  "metadata": {
    "colab": {
      "provenance": []
    },
    "kernelspec": {
      "name": "python3",
      "display_name": "Python 3"
    },
    "language_info": {
      "name": "python"
    }
  },
  "cells": [
    {
      "cell_type": "code",
      "execution_count": null,
      "metadata": {
        "colab": {
          "base_uri": "https://localhost:8080/"
        },
        "id": "EKtB9iYXTtQE",
        "outputId": "a513aa65-24bb-4f6d-a33e-6e964ae6ab07"
      },
      "outputs": [
        {
          "output_type": "stream",
          "name": "stdout",
          "text": [
            "Enter your name \n",
            "Nahid\n",
            "Nahid\n"
          ]
        }
      ],
      "source": [
        "print(\"Enter your name \")\n",
        "name=input()\n",
        "print(name)"
      ]
    },
    {
      "cell_type": "code",
      "source": [
        "name=input(\"Enter your Name \")\n",
        "Age=int(input(\"Enter your age \"))\n",
        "hight=float(input(\"Enter your hight \"))\n",
        "school=input(\"Enter your School Name \")\n",
        "gmail=input(\"Enter your Gmail id \")\n"
      ],
      "metadata": {
        "colab": {
          "base_uri": "https://localhost:8080/"
        },
        "id": "28ULk7kKUpS_",
        "outputId": "f3a7fb86-ab70-4895-dc11-537e613a863c"
      },
      "execution_count": 8,
      "outputs": [
        {
          "output_type": "stream",
          "name": "stdout",
          "text": [
            "Enter your Name Nahid\n",
            "Enter your age 24\n",
            "Enter your hight 6\n",
            "Enter your School Name Habashpur K raj Highschool\n",
            "Enter your Gmail id nahid2887@gmail.com\n",
            "My Name is:  Nahid\n",
            "My age is:  24\n",
            "My Hight is:  6.0\n",
            "My High school Name is : Habashpur K raj Highschool\n",
            "My Gmail Id Is:  nahid2887@gmail.com\n"
          ]
        }
      ]
    },
    {
      "cell_type": "code",
      "source": [
        "print(\"My Name is: \",name)\n",
        "print(\"My age is: \",Age)\n",
        "print(\"My Hight is: \",hight)\n",
        "print(\"My High school Name is :\",school)\n",
        "print(\"My Gmail Id Is: \", gmail)"
      ],
      "metadata": {
        "colab": {
          "base_uri": "https://localhost:8080/"
        },
        "id": "9UJmNxgGXTmE",
        "outputId": "8741711a-ecbe-440a-e60e-0d30ef290589"
      },
      "execution_count": 9,
      "outputs": [
        {
          "output_type": "stream",
          "name": "stdout",
          "text": [
            "My Name is:  Nahid\n",
            "My age is:  24\n",
            "My Hight is:  6.0\n",
            "My High school Name is : Habashpur K raj Highschool\n",
            "My Gmail Id Is:  nahid2887@gmail.com\n"
          ]
        }
      ]
    },
    {
      "cell_type": "code",
      "source": [
        "a=int(input())\n",
        "b=int(input())\n",
        "print(a+b)\n",
        "print(a-b)\n",
        "print(a*b)\n",
        "print(a/b)\n",
        "print(a**b)\n",
        "print(a%b)"
      ],
      "metadata": {
        "colab": {
          "base_uri": "https://localhost:8080/"
        },
        "id": "dckFxv0Rd50M",
        "outputId": "1e8584d7-1eeb-4553-d9fc-d72ca859e1cb"
      },
      "execution_count": 16,
      "outputs": [
        {
          "output_type": "stream",
          "name": "stdout",
          "text": [
            "10\n",
            "20\n",
            "30\n",
            "-10\n",
            "200\n",
            "0.5\n",
            "100000000000000000000\n",
            "10\n"
          ]
        }
      ]
    },
    {
      "cell_type": "code",
      "source": [],
      "metadata": {
        "colab": {
          "base_uri": "https://localhost:8080/"
        },
        "id": "6QuOFWpsfRfP",
        "outputId": "217d541d-c6e0-41b5-b7df-f73df2db2fda"
      },
      "execution_count": null,
      "outputs": [
        {
          "output_type": "stream",
          "name": "stdout",
          "text": [
            "25\n"
          ]
        }
      ]
    },
    {
      "cell_type": "code",
      "source": [
        "m=(a%b)\n",
        "print(m)"
      ],
      "metadata": {
        "colab": {
          "base_uri": "https://localhost:8080/"
        },
        "id": "UHFXdFMjiJyK",
        "outputId": "b3ace3ac-c837-4ce9-f0b4-5f5a0e424893"
      },
      "execution_count": null,
      "outputs": [
        {
          "output_type": "stream",
          "name": "stdout",
          "text": [
            "5\n"
          ]
        }
      ]
    },
    {
      "cell_type": "code",
      "source": [
        "H54"
      ],
      "metadata": {
        "id": "2rkHPiIMi29L"
      },
      "execution_count": null,
      "outputs": []
    }
  ]
}