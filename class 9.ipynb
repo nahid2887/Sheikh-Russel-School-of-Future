{
 "cells": [
  {
   "cell_type": "code",
   "execution_count": 6,
   "id": "1dc739e3",
   "metadata": {},
   "outputs": [
    {
     "name": "stdout",
     "output_type": "stream",
     "text": [
      "Enter Marks56\n",
      "Not A+\n",
      "Enter Marks67\n",
      "Not A+\n"
     ]
    }
   ],
   "source": [
    "i=2\n",
    "while(i<=3):\n",
    "    x=int(input(\"Enter Marks\"))\n",
    "    if(x>=80):\n",
    "        print(\"A+\")\n",
    "    else:\n",
    "        print(\"Not A+\")\n",
    "    i+=1"
   ]
  },
  {
   "cell_type": "code",
   "execution_count": 9,
   "id": "1cef02a5",
   "metadata": {},
   "outputs": [
    {
     "name": "stdout",
     "output_type": "stream",
     "text": [
      "Enter a Number5\n",
      "5  x  1  =  5\n",
      "5  x  2  =  10\n",
      "5  x  3  =  15\n",
      "5  x  4  =  20\n",
      "5  x  5  =  25\n",
      "5  x  6  =  30\n",
      "5  x  7  =  35\n",
      "5  x  8  =  40\n",
      "5  x  9  =  45\n",
      "5  x  10  =  50\n"
     ]
    }
   ],
   "source": [
    "i=1\n",
    "x=int(input(\"Enter a Number\"))\n",
    "while(i<=10):\n",
    "    print(x ,' x ' ,i, ' = ', x*i)\n",
    "    i+=1\n",
    "    "
   ]
  },
  {
   "cell_type": "code",
   "execution_count": 10,
   "id": "a7debd5c",
   "metadata": {},
   "outputs": [
    {
     "name": "stdout",
     "output_type": "stream",
     "text": [
      "2\n",
      "4\n",
      "6\n",
      "8\n",
      "10\n",
      "12\n",
      "14\n",
      "16\n",
      "18\n",
      "20\n",
      "22\n",
      "24\n",
      "26\n",
      "28\n",
      "30\n",
      "32\n",
      "34\n",
      "36\n",
      "38\n",
      "40\n",
      "42\n",
      "44\n",
      "46\n",
      "48\n",
      "50\n",
      "52\n",
      "54\n",
      "56\n",
      "58\n",
      "60\n",
      "62\n",
      "64\n",
      "66\n",
      "68\n",
      "70\n",
      "72\n",
      "74\n",
      "76\n",
      "78\n",
      "80\n",
      "82\n",
      "84\n",
      "86\n",
      "88\n",
      "90\n",
      "92\n",
      "94\n",
      "96\n",
      "98\n",
      "100\n"
     ]
    }
   ],
   "source": [
    "i=2\n",
    "while(i<=100):\n",
    "    print(i)\n",
    "    i+=2"
   ]
  },
  {
   "cell_type": "code",
   "execution_count": 14,
   "id": "b17b6075",
   "metadata": {},
   "outputs": [
    {
     "name": "stdout",
     "output_type": "stream",
     "text": [
      "2500\n"
     ]
    }
   ],
   "source": [
    "i=1\n",
    "s=0\n",
    "while(i<=100):\n",
    "    s+=i\n",
    "    i+=2\n",
    "print(s)"
   ]
  },
  {
   "cell_type": "code",
   "execution_count": 26,
   "id": "ee589d22",
   "metadata": {},
   "outputs": [
    {
     "name": "stdout",
     "output_type": "stream",
     "text": [
      "39\n",
      "50\n",
      "270\n"
     ]
    }
   ],
   "source": [
    "#even number\n",
    "fnum=int(input())\n",
    "if(fnum%2==0):\n",
    "    fnum=fnum\n",
    "else:\n",
    "    fnum=fnum+1\n",
    "lnum=int(input())\n",
    "s=0\n",
    "while(fnum<=lnum):\n",
    "    s+=fnum\n",
    "   \n",
    "    fnum+=2\n",
    "print(s)"
   ]
  },
  {
   "cell_type": "code",
   "execution_count": 29,
   "id": "91c8bfac",
   "metadata": {},
   "outputs": [
    {
     "name": "stdout",
     "output_type": "stream",
     "text": [
      "1\n",
      "2\n",
      "3\n",
      "4\n",
      "5\n",
      "6\n",
      "7\n",
      "8\n",
      "9\n",
      "10\n",
      "11\n",
      "12\n",
      "13\n",
      "14\n",
      "15\n",
      "16\n",
      "17\n",
      "18\n",
      "19\n",
      "20\n",
      "21\n",
      "22\n",
      "23\n",
      "24\n",
      "25\n",
      "26\n",
      "27\n",
      "28\n",
      "29\n",
      "30\n",
      "31\n",
      "32\n",
      "33\n",
      "34\n",
      "35\n",
      "36\n",
      "37\n",
      "38\n",
      "39\n",
      "40\n",
      "41\n",
      "42\n",
      "43\n",
      "44\n",
      "45\n",
      "46\n",
      "47\n",
      "48\n",
      "49\n",
      "50\n",
      "51\n",
      "52\n",
      "53\n",
      "54\n",
      "55\n",
      "56\n",
      "57\n",
      "58\n",
      "59\n",
      "60\n",
      "61\n",
      "62\n",
      "63\n",
      "64\n",
      "65\n",
      "66\n",
      "67\n",
      "68\n",
      "69\n",
      "70\n",
      "71\n",
      "72\n",
      "73\n",
      "74\n",
      "75\n",
      "76\n",
      "77\n",
      "78\n",
      "79\n",
      "80\n",
      "81\n",
      "82\n",
      "83\n",
      "84\n",
      "85\n",
      "86\n",
      "87\n",
      "88\n",
      "89\n",
      "90\n",
      "91\n",
      "92\n",
      "93\n",
      "94\n",
      "95\n",
      "96\n",
      "97\n",
      "98\n",
      "99\n",
      "100\n"
     ]
    }
   ],
   "source": [
    "i=1\n",
    "while(i<=100):\n",
    "    print(i)\n",
    "    i+=1"
   ]
  },
  {
   "cell_type": "code",
   "execution_count": 9,
   "id": "f034484e",
   "metadata": {},
   "outputs": [
    {
     "name": "stdout",
     "output_type": "stream",
     "text": [
      "3\n",
      "4\n",
      "0\n"
     ]
    }
   ],
   "source": [
    "s=0\n",
    "i=2\n",
    "while(i<=3):\n",
    "    x=int(input())\n",
    "    i=i+1\n",
    "    \n",
    "print(s)"
   ]
  },
  {
   "cell_type": "code",
   "execution_count": 7,
   "id": "7ea124d6",
   "metadata": {},
   "outputs": [
    {
     "name": "stdout",
     "output_type": "stream",
     "text": [
      "19\n",
      "30\n",
      "20\n",
      "22\n",
      "24\n",
      "26\n",
      "28\n",
      "30\n",
      "150\n"
     ]
    }
   ],
   "source": [
    "x=int(input())\n",
    "\n",
    "y=int(input())\n",
    "s=0\n",
    "while(x<=y):\n",
    "    if(x%2==0):\n",
    "        print(x)\n",
    "        s+=x\n",
    "    \n",
    "    x+=1\n",
    "print(s)\n",
    "    "
   ]
  },
  {
   "cell_type": "code",
   "execution_count": 10,
   "id": "9e1f56cb",
   "metadata": {},
   "outputs": [
    {
     "name": "stdout",
     "output_type": "stream",
     "text": [
      "enter marks89\n",
      "A+\n",
      "enter marks86\n",
      "A+\n",
      "enter marks78\n",
      "Not A+\n",
      "enter marks98\n",
      "A+\n",
      "enter marks78\n",
      "Not A+\n"
     ]
    }
   ],
   "source": [
    "i=1\n",
    "while(i<=5):\n",
    "    m=int(input(\"enter marks\"))\n",
    "    if(m>=80):\n",
    "        print(\"A+\")\n",
    "    else:\n",
    "        print(\"Not A+\")\n",
    "    i+=1"
   ]
  },
  {
   "cell_type": "code",
   "execution_count": 3,
   "id": "226f942c",
   "metadata": {},
   "outputs": [
    {
     "name": "stdout",
     "output_type": "stream",
     "text": [
      "1\n",
      "2\n",
      "3\n",
      "4\n",
      "5\n",
      "6\n",
      "7\n",
      "8\n",
      "9\n",
      "10\n",
      "11\n"
     ]
    }
   ],
   "source": [
    "i=1\n",
    "while(i<=10):\n",
    "      \n",
    "    print(i)\n",
    "    i+=1\n"
   ]
  },
  {
   "cell_type": "code",
   "execution_count": 5,
   "id": "cbba599c",
   "metadata": {},
   "outputs": [
    {
     "name": "stdout",
     "output_type": "stream",
     "text": [
      "Enter a number196\n",
      "196  x  1  =  196\n",
      "196  x  2  =  392\n",
      "196  x  3  =  588\n",
      "196  x  4  =  784\n",
      "196  x  5  =  980\n",
      "196  x  6  =  1176\n",
      "196  x  7  =  1372\n",
      "196  x  8  =  1568\n",
      "196  x  9  =  1764\n",
      "196  x  10  =  1960\n"
     ]
    }
   ],
   "source": [
    "a=int(input(\"Enter a number\"))\n",
    "i=1\n",
    "while(i<=10):\n",
    "    print(a,\" x \", i, \" = \", a*i)\n",
    "    i+=1\n"
   ]
  },
  {
   "cell_type": "code",
   "execution_count": 7,
   "id": "4290a37a",
   "metadata": {
    "scrolled": false
   },
   "outputs": [
    {
     "name": "stdout",
     "output_type": "stream",
     "text": [
      "I Love Bangladesh\n",
      "I Love Bangladesh\n",
      "I Love Bangladesh\n",
      "I Love Bangladesh\n",
      "I Love Bangladesh\n",
      "I Love Bangladesh\n",
      "I Love Bangladesh\n",
      "I Love Bangladesh\n",
      "I Love Bangladesh\n",
      "I Love Bangladesh\n"
     ]
    }
   ],
   "source": [
    "i=1\n",
    "while(i<=10):\n",
    "    print(\"I Love Bangladesh\")\n",
    "    i+=1"
   ]
  },
  {
   "cell_type": "code",
   "execution_count": 15,
   "id": "42588611",
   "metadata": {},
   "outputs": [
    {
     "name": "stdout",
     "output_type": "stream",
     "text": [
      "0\n"
     ]
    }
   ],
   "source": [
    "i=1\n",
    "s=0\n",
    "while(i<=100):\n",
    "    s*=i\n",
    "    i+=1\n",
    "print(s)"
   ]
  },
  {
   "cell_type": "code",
   "execution_count": 28,
   "id": "0e2f0535",
   "metadata": {},
   "outputs": [
    {
     "name": "stdout",
     "output_type": "stream",
     "text": [
      "60\n",
      "70\n",
      "60\n",
      "62\n",
      "64\n",
      "66\n",
      "68\n",
      "70\n"
     ]
    }
   ],
   "source": [
    "x=int(input())\n",
    "if(x%2==0):\n",
    "    x=x\n",
    "else:\n",
    "    x=x+1\n",
    "y=int(input())\n",
    "\n",
    "\n",
    "while(x<=y):\n",
    "    print(x)\n",
    "    x+=2\n"
   ]
  },
  {
   "cell_type": "code",
   "execution_count": null,
   "id": "74ca976d",
   "metadata": {},
   "outputs": [],
   "source": []
  }
 ],
 "metadata": {
  "kernelspec": {
   "display_name": "Python 3 (ipykernel)",
   "language": "python",
   "name": "python3"
  },
  "language_info": {
   "codemirror_mode": {
    "name": "ipython",
    "version": 3
   },
   "file_extension": ".py",
   "mimetype": "text/x-python",
   "name": "python",
   "nbconvert_exporter": "python",
   "pygments_lexer": "ipython3",
   "version": "3.11.5"
  }
 },
 "nbformat": 4,
 "nbformat_minor": 5
}
