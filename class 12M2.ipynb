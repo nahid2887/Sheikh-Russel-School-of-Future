{
 "cells": [
  {
   "cell_type": "code",
   "execution_count": 4,
   "id": "e919dcdc",
   "metadata": {},
   "outputs": [
    {
     "name": "stdout",
     "output_type": "stream",
     "text": [
      "Nahid\n"
     ]
    }
   ],
   "source": [
    "def myfun():\n",
    "    print(\"Nahid\")\n",
    "myfun()"
   ]
  },
  {
   "cell_type": "code",
   "execution_count": 3,
   "id": "5364f5fe",
   "metadata": {},
   "outputs": [
    {
     "name": "stdout",
     "output_type": "stream",
     "text": [
      "Nahid\n"
     ]
    }
   ],
   "source": [
    "myfun()"
   ]
  },
  {
   "cell_type": "code",
   "execution_count": 6,
   "id": "e7e0d469",
   "metadata": {},
   "outputs": [
    {
     "name": "stdout",
     "output_type": "stream",
     "text": [
      "9\n",
      "165\n"
     ]
    }
   ],
   "source": [
    "def sumation(x,y):\n",
    "    r=x+y\n",
    "    print(r)\n",
    "a=sumation(3,6)\n",
    "n=sumation(78,87)"
   ]
  },
  {
   "cell_type": "code",
   "execution_count": 9,
   "id": "48a5f00e",
   "metadata": {},
   "outputs": [
    {
     "name": "stdout",
     "output_type": "stream",
     "text": [
      "9852.0576\n"
     ]
    }
   ],
   "source": [
    "def circle(r):\n",
    "    x=3.1416*r**2\n",
    "    return x\n",
    "\n",
    "n=circle(56)\n",
    "print(n)"
   ]
  },
  {
   "cell_type": "code",
   "execution_count": 12,
   "id": "ccb07757",
   "metadata": {},
   "outputs": [
    {
     "name": "stdout",
     "output_type": "stream",
     "text": [
      "0\n",
      "1\n",
      "2\n",
      "3\n",
      "4\n",
      "5\n",
      "6\n",
      "7\n",
      "8\n",
      "9\n",
      "10\n",
      "11\n",
      "12\n",
      "13\n",
      "14\n",
      "15\n",
      "16\n",
      "17\n",
      "18\n",
      "19\n",
      "20\n",
      "21\n",
      "22\n",
      "23\n",
      "24\n",
      "25\n",
      "26\n",
      "27\n",
      "28\n",
      "29\n",
      "30\n",
      "31\n",
      "32\n",
      "33\n",
      "34\n",
      "35\n",
      "36\n",
      "37\n",
      "38\n",
      "39\n",
      "40\n",
      "41\n",
      "42\n",
      "43\n",
      "44\n",
      "45\n",
      "46\n",
      "47\n",
      "48\n",
      "49\n",
      "50\n",
      "51\n",
      "52\n",
      "53\n",
      "54\n",
      "55\n",
      "56\n",
      "57\n",
      "58\n",
      "59\n",
      "60\n",
      "61\n",
      "62\n",
      "63\n",
      "64\n",
      "65\n",
      "66\n",
      "67\n",
      "68\n",
      "69\n",
      "70\n",
      "71\n",
      "72\n",
      "73\n",
      "74\n",
      "75\n",
      "76\n",
      "77\n",
      "78\n",
      "79\n",
      "80\n",
      "81\n",
      "82\n",
      "83\n",
      "84\n",
      "85\n",
      "86\n",
      "87\n",
      "88\n",
      "89\n",
      "90\n",
      "91\n",
      "92\n",
      "93\n",
      "94\n",
      "95\n",
      "96\n",
      "97\n",
      "98\n",
      "99\n",
      "100\n"
     ]
    }
   ],
   "source": [
    "for i in range(101):\n",
    "    print(i)"
   ]
  },
  {
   "cell_type": "code",
   "execution_count": 16,
   "id": "923d3ee3",
   "metadata": {},
   "outputs": [
    {
     "name": "stdout",
     "output_type": "stream",
     "text": [
      "We love our country\n",
      "We love our country\n",
      "We love our country\n"
     ]
    }
   ],
   "source": [
    "def myfun():\n",
    "    print(\"We love our country\")\n",
    "myfun()\n",
    "myfun()\n",
    "myfun()"
   ]
  },
  {
   "cell_type": "code",
   "execution_count": 15,
   "id": "2ab821a9",
   "metadata": {},
   "outputs": [
    {
     "name": "stdout",
     "output_type": "stream",
     "text": [
      "We love our country\n"
     ]
    }
   ],
   "source": [
    "myfun()"
   ]
  },
  {
   "cell_type": "code",
   "execution_count": 18,
   "id": "33c7fe25",
   "metadata": {},
   "outputs": [
    {
     "name": "stdout",
     "output_type": "stream",
     "text": [
      "72\n",
      "90\n"
     ]
    }
   ],
   "source": [
    "def math(x,y):\n",
    "    print(x+y)\n",
    "math(5,67)\n",
    "s=math(56,34)"
   ]
  },
  {
   "cell_type": "code",
   "execution_count": 23,
   "id": "6b1ff2eb",
   "metadata": {},
   "outputs": [
    {
     "name": "stdout",
     "output_type": "stream",
     "text": [
      "54\n",
      "9160.9056\n"
     ]
    }
   ],
   "source": [
    "def circle(r):\n",
    "    a=3.1416*r**2\n",
    "    return a;\n",
    "x=float(input())\n",
    "s=circle(x)\n",
    "print(s)"
   ]
  },
  {
   "cell_type": "code",
   "execution_count": 25,
   "id": "e7f443c9",
   "metadata": {},
   "outputs": [
    {
     "name": "stdout",
     "output_type": "stream",
     "text": [
      "7\n",
      "16\n"
     ]
    }
   ],
   "source": [
    "print(max(3,5,6,7))\n",
    "print(pow(4,2))"
   ]
  },
  {
   "cell_type": "code",
   "execution_count": 4,
   "id": "aac84af4",
   "metadata": {},
   "outputs": [
    {
     "name": "stdout",
     "output_type": "stream",
     "text": [
      "We love our country\n",
      "We love our country\n",
      "We love our country\n"
     ]
    }
   ],
   "source": [
    "def myfun():\n",
    "    print(\"We love our country\")\n",
    "myfun()\n",
    "myfun()\n",
    "myfun()"
   ]
  },
  {
   "cell_type": "code",
   "execution_count": 5,
   "id": "c4fa3f08",
   "metadata": {},
   "outputs": [
    {
     "name": "stdout",
     "output_type": "stream",
     "text": [
      "13\n",
      "101\n"
     ]
    }
   ],
   "source": [
    "def sumation(x,y):\n",
    "    print(x*y)\n",
    "s=sumation(5,8)\n",
    "a=sumation(34,67)"
   ]
  },
  {
   "cell_type": "code",
   "execution_count": 8,
   "id": "152a245f",
   "metadata": {},
   "outputs": [
    {
     "name": "stdout",
     "output_type": "stream",
     "text": [
      "56\n",
      "9852.0576\n"
     ]
    }
   ],
   "source": [
    "def circle(r):\n",
    "    a=3.1416*r**2\n",
    "    return a\n",
    "x=float(input())\n",
    "b=circle(x)\n",
    "print(b)"
   ]
  },
  {
   "cell_type": "code",
   "execution_count": null,
   "id": "7ccf4c08",
   "metadata": {},
   "outputs": [],
   "source": []
  }
 ],
 "metadata": {
  "kernelspec": {
   "display_name": "Python 3 (ipykernel)",
   "language": "python",
   "name": "python3"
  },
  "language_info": {
   "codemirror_mode": {
    "name": "ipython",
    "version": 3
   },
   "file_extension": ".py",
   "mimetype": "text/x-python",
   "name": "python",
   "nbconvert_exporter": "python",
   "pygments_lexer": "ipython3",
   "version": "3.11.5"
  }
 },
 "nbformat": 4,
 "nbformat_minor": 5
}
