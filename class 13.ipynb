{
 "cells": [
  {
   "cell_type": "code",
   "execution_count": 19,
   "id": "b45fa018",
   "metadata": {},
   "outputs": [
    {
     "name": "stdout",
     "output_type": "stream",
     "text": [
      "I LOVE BANGLADESH\n"
     ]
    }
   ],
   "source": [
    "s=\"I Love Bangladesh\"\n",
    "print(s.upper())\n"
   ]
  },
  {
   "cell_type": "code",
   "execution_count": 20,
   "id": "20698c87",
   "metadata": {},
   "outputs": [
    {
     "name": "stdout",
     "output_type": "stream",
     "text": [
      "i love bangladesh\n"
     ]
    }
   ],
   "source": [
    "print(s.lower())"
   ]
  },
  {
   "cell_type": "code",
   "execution_count": 21,
   "id": "c6b20d4e",
   "metadata": {},
   "outputs": [],
   "source": [
    "b=s.replace('Bangladesh', 'My country')"
   ]
  },
  {
   "cell_type": "code",
   "execution_count": 22,
   "id": "a993fe69",
   "metadata": {},
   "outputs": [
    {
     "data": {
      "text/plain": [
       "'I Love My country'"
      ]
     },
     "execution_count": 22,
     "metadata": {},
     "output_type": "execute_result"
    }
   ],
   "source": [
    "b"
   ]
  },
  {
   "cell_type": "code",
   "execution_count": 23,
   "id": "d6828653",
   "metadata": {},
   "outputs": [
    {
     "name": "stdout",
     "output_type": "stream",
     "text": [
      "['I', 'Love', 'My', 'country']\n"
     ]
    }
   ],
   "source": [
    "print(b.split())"
   ]
  },
  {
   "cell_type": "code",
   "execution_count": 24,
   "id": "0a1cf2f5",
   "metadata": {},
   "outputs": [
    {
     "name": "stdout",
     "output_type": "stream",
     "text": [
      "-1\n"
     ]
    }
   ],
   "source": [
    "print(b.find(\"nahid\"))"
   ]
  },
  {
   "cell_type": "code",
   "execution_count": 26,
   "id": "7695d64a",
   "metadata": {},
   "outputs": [
    {
     "name": "stdout",
     "output_type": "stream",
     "text": [
      "7\n"
     ]
    }
   ],
   "source": [
    "print(b.find(\"My\"))"
   ]
  },
  {
   "cell_type": "code",
   "execution_count": 27,
   "id": "ddaaee1e",
   "metadata": {},
   "outputs": [
    {
     "data": {
      "text/plain": [
       "'I Love Bangladesh'"
      ]
     },
     "execution_count": 27,
     "metadata": {},
     "output_type": "execute_result"
    }
   ],
   "source": [
    "s\n"
   ]
  },
  {
   "cell_type": "code",
   "execution_count": 29,
   "id": "66f25f1b",
   "metadata": {},
   "outputs": [
    {
     "name": "stdout",
     "output_type": "stream",
     "text": [
      "1\n"
     ]
    }
   ],
   "source": [
    "print(s.count('l'))"
   ]
  },
  {
   "cell_type": "code",
   "execution_count": 15,
   "id": "5134cb7c",
   "metadata": {},
   "outputs": [],
   "source": [
    "t=\" this country name is bangladesh\""
   ]
  },
  {
   "cell_type": "code",
   "execution_count": 16,
   "id": "5ae05ace",
   "metadata": {},
   "outputs": [
    {
     "name": "stdout",
     "output_type": "stream",
     "text": [
      "I Love Mycountry this country name is bangladesh\n"
     ]
    }
   ],
   "source": [
    "print(s+t)"
   ]
  },
  {
   "cell_type": "code",
   "execution_count": 17,
   "id": "231e74e9",
   "metadata": {},
   "outputs": [
    {
     "name": "stdout",
     "output_type": "stream",
     "text": [
      "Enat redus 67\n",
      "14102.6424\n"
     ]
    }
   ],
   "source": [
    "def circle(r):\n",
    "    a=3.1416*r**2\n",
    "    return a\n",
    "x=int (input(\"Enat redus \"))  \n",
    "b=circle(x)\n",
    "print(b)\n",
    "    "
   ]
  },
  {
   "cell_type": "code",
   "execution_count": 7,
   "id": "5afe0c85",
   "metadata": {},
   "outputs": [],
   "source": [
    "s=\"Digital Bangladesh\""
   ]
  },
  {
   "cell_type": "code",
   "execution_count": 2,
   "id": "7819e0cd",
   "metadata": {},
   "outputs": [
    {
     "name": "stdout",
     "output_type": "stream",
     "text": [
      "DIGITA BANGLADESH\n"
     ]
    }
   ],
   "source": [
    "print(s.upper())"
   ]
  },
  {
   "cell_type": "code",
   "execution_count": 4,
   "id": "1291e1f5",
   "metadata": {},
   "outputs": [
    {
     "name": "stdout",
     "output_type": "stream",
     "text": [
      "digita bangladesh\n"
     ]
    }
   ],
   "source": [
    "print(s.lower())"
   ]
  },
  {
   "cell_type": "code",
   "execution_count": 8,
   "id": "660e1f91",
   "metadata": {},
   "outputs": [],
   "source": [
    "s=s.replace('Digital','Smart')"
   ]
  },
  {
   "cell_type": "code",
   "execution_count": 9,
   "id": "5c4640da",
   "metadata": {},
   "outputs": [
    {
     "data": {
      "text/plain": [
       "'Smart Bangladesh'"
      ]
     },
     "execution_count": 9,
     "metadata": {},
     "output_type": "execute_result"
    }
   ],
   "source": [
    "s"
   ]
  },
  {
   "cell_type": "code",
   "execution_count": 11,
   "id": "78d6737a",
   "metadata": {},
   "outputs": [
    {
     "name": "stdout",
     "output_type": "stream",
     "text": [
      "['Smart', 'Bangladesh']\n"
     ]
    }
   ],
   "source": [
    "print(s.split())"
   ]
  },
  {
   "cell_type": "code",
   "execution_count": 12,
   "id": "88fd599f",
   "metadata": {},
   "outputs": [
    {
     "name": "stdout",
     "output_type": "stream",
     "text": [
      "-1\n"
     ]
    }
   ],
   "source": [
    "print(s.find(\"Nahd\"))"
   ]
  },
  {
   "cell_type": "code",
   "execution_count": 13,
   "id": "487213d1",
   "metadata": {},
   "outputs": [
    {
     "name": "stdout",
     "output_type": "stream",
     "text": [
      "6\n"
     ]
    }
   ],
   "source": [
    "print(s.find(\"Bangladesh\"))"
   ]
  },
  {
   "cell_type": "code",
   "execution_count": 14,
   "id": "50e0128f",
   "metadata": {},
   "outputs": [
    {
     "name": "stdout",
     "output_type": "stream",
     "text": [
      "0\n"
     ]
    }
   ],
   "source": [
    "print(s.count('i'))"
   ]
  },
  {
   "cell_type": "code",
   "execution_count": null,
   "id": "85e58c44",
   "metadata": {},
   "outputs": [],
   "source": [
    " "
   ]
  }
 ],
 "metadata": {
  "kernelspec": {
   "display_name": "Python 3 (ipykernel)",
   "language": "python",
   "name": "python3"
  },
  "language_info": {
   "codemirror_mode": {
    "name": "ipython",
    "version": 3
   },
   "file_extension": ".py",
   "mimetype": "text/x-python",
   "name": "python",
   "nbconvert_exporter": "python",
   "pygments_lexer": "ipython3",
   "version": "3.11.5"
  }
 },
 "nbformat": 4,
 "nbformat_minor": 5
}
