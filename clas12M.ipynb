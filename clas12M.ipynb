{
 "cells": [
  {
   "cell_type": "code",
   "execution_count": 3,
   "id": "dee2c09c",
   "metadata": {},
   "outputs": [
    {
     "name": "stdout",
     "output_type": "stream",
     "text": [
      "We love my country\n",
      "We love my country\n",
      "We love my country\n",
      "We love my country\n"
     ]
    }
   ],
   "source": [
    "def myfunction():\n",
    "    print(\"We love my country\")\n",
    "myfunction()\n",
    "myfunction()\n",
    "myfunction()\n",
    "myfunction()"
   ]
  },
  {
   "cell_type": "code",
   "execution_count": 6,
   "id": "9fb9bcb2",
   "metadata": {},
   "outputs": [
    {
     "name": "stdout",
     "output_type": "stream",
     "text": [
      "i am 10 Year old\n",
      "i am in  4\n",
      "i am 15 Year old\n",
      "i am in  10\n"
     ]
    }
   ],
   "source": [
    "def fun(age,clas):\n",
    "    print(\"i am\",age ,\"Year old\")\n",
    "    print(\"i am in \",clas)\n",
    "y=fun(10,4)\n",
    "x=fun(15,10)"
   ]
  },
  {
   "cell_type": "code",
   "execution_count": 9,
   "id": "9d738f56",
   "metadata": {},
   "outputs": [
    {
     "name": "stdout",
     "output_type": "stream",
     "text": [
      "56.5488\n"
     ]
    }
   ],
   "source": [
    "def circle(r):\n",
    "    area=2*3.1416*r**2\n",
    "    return area\n",
    "r=circle(3)\n",
    "print(r)"
   ]
  },
  {
   "cell_type": "code",
   "execution_count": 11,
   "id": "d6c3e732",
   "metadata": {},
   "outputs": [
    {
     "name": "stdout",
     "output_type": "stream",
     "text": [
      "56\n",
      "354\n",
      "410\n"
     ]
    }
   ],
   "source": [
    "def sam(x,y):\n",
    "    sam=x+y\n",
    "    return sam\n",
    "a=int(input())\n",
    "b=int(input())\n",
    "c=sam(a,b)\n",
    "print(c)"
   ]
  },
  {
   "cell_type": "code",
   "execution_count": 31,
   "id": "a1ca714b",
   "metadata": {},
   "outputs": [
    {
     "name": "stdout",
     "output_type": "stream",
     "text": [
      "2\n"
     ]
    }
   ],
   "source": [
    "print(min(2,3,5,67,3))"
   ]
  },
  {
   "cell_type": "code",
   "execution_count": 33,
   "id": "1ae5ee0d",
   "metadata": {},
   "outputs": [
    {
     "name": "stdout",
     "output_type": "stream",
     "text": [
      "16\n"
     ]
    }
   ],
   "source": [
    "print(pow(4,2))"
   ]
  },
  {
   "cell_type": "code",
   "execution_count": 18,
   "id": "001e7f52",
   "metadata": {},
   "outputs": [
    {
     "name": "stdout",
     "output_type": "stream",
     "text": [
      "I love my country\n",
      "I love my country\n",
      "I love my country\n",
      "I love my country\n"
     ]
    }
   ],
   "source": [
    "def myfun():\n",
    "    print(\"I love my country\")\n",
    "myfun()\n",
    "myfun()\n",
    "myfun()\n",
    "myfun()"
   ]
  },
  {
   "cell_type": "code",
   "execution_count": 1,
   "id": "39d61838",
   "metadata": {},
   "outputs": [
    {
     "name": "stdout",
     "output_type": "stream",
     "text": [
      "7\n"
     ]
    },
    {
     "ename": "NameError",
     "evalue": "name 'r' is not defined",
     "output_type": "error",
     "traceback": [
      "\u001b[1;31m---------------------------------------------------------------------------\u001b[0m",
      "\u001b[1;31mNameError\u001b[0m                                 Traceback (most recent call last)",
      "Cell \u001b[1;32mIn[1], line 6\u001b[0m\n\u001b[0;32m      3\u001b[0m     \u001b[38;5;28;01mreturn\u001b[39;00m area   \n\u001b[0;32m      4\u001b[0m c\u001b[38;5;241m=\u001b[39m\u001b[38;5;28mint\u001b[39m(\u001b[38;5;28minput\u001b[39m())\n\u001b[1;32m----> 6\u001b[0m nahid\u001b[38;5;241m=\u001b[39mresult(r)\n\u001b[0;32m      7\u001b[0m \u001b[38;5;28mprint\u001b[39m(nahid)\n",
      "\u001b[1;31mNameError\u001b[0m: name 'r' is not defined"
     ]
    }
   ],
   "source": [
    "def result(r):\n",
    "    area=3.1416*r**2\n",
    "    return area   \n",
    "c=int(input())\n",
    "\n",
    "nahid=result(r)\n",
    "print(nahid)\n",
    "    \n",
    "    "
   ]
  },
  {
   "cell_type": "code",
   "execution_count": 4,
   "id": "a95cf46c",
   "metadata": {},
   "outputs": [
    {
     "name": "stdout",
     "output_type": "stream",
     "text": [
      "I love my country\n",
      "I love my country\n",
      "I love my country\n",
      "I love my country\n"
     ]
    }
   ],
   "source": [
    "def myfun():\n",
    "    print(\"I love my country\")\n",
    "myfun()\n",
    "myfun()\n",
    "myfun()\n",
    "myfun()"
   ]
  },
  {
   "cell_type": "code",
   "execution_count": 10,
   "id": "457ef84c",
   "metadata": {},
   "outputs": [
    {
     "name": "stdout",
     "output_type": "stream",
     "text": [
      "56\n",
      "78\n",
      "9\n",
      "143\n"
     ]
    }
   ],
   "source": [
    "def result (x,y,z):\n",
    "    total=x+y+z\n",
    "    return total\n",
    "\n",
    "a=int(input())\n",
    "b=int(input())\n",
    "c=int(input())\n",
    "nahid=result(a,b,c)\n",
    "print(nahid)\n"
   ]
  },
  {
   "cell_type": "code",
   "execution_count": 12,
   "id": "efd3cb4b",
   "metadata": {},
   "outputs": [
    {
     "name": "stdout",
     "output_type": "stream",
     "text": [
      "5\n",
      "78.53999999999999\n"
     ]
    }
   ],
   "source": [
    "def cirle(r):\n",
    "    area=3.1416*r**2\n",
    "    return area\n",
    "x=int(input())\n",
    "a=cirle(x)\n",
    "print(a)"
   ]
  },
  {
   "cell_type": "code",
   "execution_count": 14,
   "id": "553b1b1b",
   "metadata": {},
   "outputs": [
    {
     "name": "stdout",
     "output_type": "stream",
     "text": [
      "11\n"
     ]
    }
   ],
   "source": [
    "x=\"Bangaladesh\"\n",
    "print(len(x))"
   ]
  },
  {
   "cell_type": "code",
   "execution_count": 16,
   "id": "ba8083c0",
   "metadata": {},
   "outputs": [
    {
     "name": "stdout",
     "output_type": "stream",
     "text": [
      "3\n"
     ]
    }
   ],
   "source": [
    "print(min(3,4,566,77,234))"
   ]
  },
  {
   "cell_type": "code",
   "execution_count": null,
   "id": "6f1d0c3b",
   "metadata": {},
   "outputs": [],
   "source": []
  }
 ],
 "metadata": {
  "kernelspec": {
   "display_name": "Python 3 (ipykernel)",
   "language": "python",
   "name": "python3"
  },
  "language_info": {
   "codemirror_mode": {
    "name": "ipython",
    "version": 3
   },
   "file_extension": ".py",
   "mimetype": "text/x-python",
   "name": "python",
   "nbconvert_exporter": "python",
   "pygments_lexer": "ipython3",
   "version": "3.11.5"
  }
 },
 "nbformat": 4,
 "nbformat_minor": 5
}
