{
 "cells": [
  {
   "cell_type": "code",
   "execution_count": 2,
   "id": "b135f15f",
   "metadata": {},
   "outputs": [
    {
     "name": "stdout",
     "output_type": "stream",
     "text": [
      "77\n",
      "Not Get prize\n"
     ]
    }
   ],
   "source": [
    "num=int(input())\n",
    "if(num>=80):\n",
    "    print(\"Get prize\")\n",
    "else:\n",
    "    print(\"Not Get prize\")"
   ]
  },
  {
   "cell_type": "code",
   "execution_count": 5,
   "id": "799554c8",
   "metadata": {},
   "outputs": [
    {
     "name": "stdout",
     "output_type": "stream",
     "text": [
      "33\n",
      "pass\n"
     ]
    }
   ],
   "source": [
    "num=int(input())\n",
    "if(num<33):\n",
    "    print(\"fail\")\n",
    "else:\n",
    "    print(\"pass\")"
   ]
  },
  {
   "cell_type": "code",
   "execution_count": 7,
   "id": "cc7e90ea",
   "metadata": {},
   "outputs": [
    {
     "name": "stdout",
     "output_type": "stream",
     "text": [
      "12\n"
     ]
    }
   ],
   "source": [
    "a=12\n",
    "b=6\n",
    "if(a>b):\n",
    "    print(a)\n",
    "else:\n",
    "    print(b)"
   ]
  },
  {
   "cell_type": "code",
   "execution_count": 8,
   "id": "4d44bc59",
   "metadata": {
    "scrolled": true
   },
   "outputs": [
    {
     "name": "stdout",
     "output_type": "stream",
     "text": [
      "56\n",
      "57\n",
      "54\n",
      "57\n"
     ]
    }
   ],
   "source": [
    "a=int(input())\n",
    "b=int(input())\n",
    "c=int(input())\n",
    "\n",
    "if(a>b):\n",
    "    x=a\n",
    "else:\n",
    "    x=b\n",
    "if(x>c):\n",
    "    print(x)\n",
    "else:\n",
    "    print(c)"
   ]
  },
  {
   "cell_type": "code",
   "execution_count": 10,
   "id": "6cc8c0c5",
   "metadata": {},
   "outputs": [
    {
     "name": "stdout",
     "output_type": "stream",
     "text": [
      "33\n",
      "pass\n"
     ]
    }
   ],
   "source": [
    "num=int(input())\n",
    "if(num>=33):\n",
    "    print(\"pass\")\n",
    "else:\n",
    "    print(\"Fail\")"
   ]
  },
  {
   "cell_type": "code",
   "execution_count": 12,
   "id": "e7489a42",
   "metadata": {},
   "outputs": [
    {
     "name": "stdout",
     "output_type": "stream",
     "text": [
      "56\n",
      "35\n",
      "24\n",
      "the biggest number is  56\n"
     ]
    }
   ],
   "source": [
    "a=int(input())\n",
    "b=int(input())\n",
    "c=int(input())\n",
    "if(a>b):\n",
    "    x=a\n",
    "else:\n",
    "    x=b\n",
    "if(x<c):\n",
    "    print(\"the biggest number is \",c)\n",
    "else:\n",
    "    print(\"the biggest number is \",x)"
   ]
  },
  {
   "cell_type": "code",
   "execution_count": 15,
   "id": "8ddc3ac0",
   "metadata": {},
   "outputs": [
    {
     "name": "stdout",
     "output_type": "stream",
     "text": [
      "20\n",
      "get F\n"
     ]
    }
   ],
   "source": [
    "x=int(input())\n",
    "if(x<=80 and x>=100):\n",
    "    print(\"Get A+\")\n",
    "elif(x<=70 and x>80):\n",
    "    print(\"Get A\")\n",
    "elif(x<=60 and x>80):\n",
    "    print(\"Get A-\")\n",
    "elif(x<=50 and x>60):\n",
    "    print(\"Get B\")\n",
    "elif(x<=40 and x>50):\n",
    "    print(\"Get c\")\n",
    "elif(x<=33 and x>40):\n",
    "    print(\"Get D\")\n",
    "else:\n",
    "    print(\"get F\")"
   ]
  },
  {
   "cell_type": "code",
   "execution_count": 16,
   "id": "b8f30c4a",
   "metadata": {},
   "outputs": [
    {
     "name": "stdout",
     "output_type": "stream",
     "text": [
      "90\n",
      "get Prize\n"
     ]
    }
   ],
   "source": [
    "num =int(input())\n",
    "if num>=80:\n",
    "    print(\"get Prize\")\n",
    "else:\n",
    "    print(\"No Prize\")"
   ]
  },
  {
   "cell_type": "code",
   "execution_count": 17,
   "id": "4b39785e",
   "metadata": {},
   "outputs": [
    {
     "name": "stdout",
     "output_type": "stream",
     "text": [
      "30\n",
      "Fail\n"
     ]
    }
   ],
   "source": [
    "x=int(input())\n",
    "if(x>=33):\n",
    "    print(\"Pass\")\n",
    "else:\n",
    "    print(\"Fail\")"
   ]
  },
  {
   "cell_type": "code",
   "execution_count": 18,
   "id": "e9dda277",
   "metadata": {},
   "outputs": [
    {
     "name": "stdout",
     "output_type": "stream",
     "text": [
      "45\n",
      "67\n",
      "the Biggest number is  67\n"
     ]
    }
   ],
   "source": [
    "a=int(input())\n",
    "b=int(input())\n",
    "if(a>b):\n",
    "    print(\"the Biggest number is \",a)\n",
    "else:\n",
    "    print(\"the Biggest number is \",b)"
   ]
  },
  {
   "cell_type": "code",
   "execution_count": null,
   "id": "e2be0868",
   "metadata": {},
   "outputs": [],
   "source": []
  }
 ],
 "metadata": {
  "kernelspec": {
   "display_name": "Python 3 (ipykernel)",
   "language": "python",
   "name": "python3"
  },
  "language_info": {
   "codemirror_mode": {
    "name": "ipython",
    "version": 3
   },
   "file_extension": ".py",
   "mimetype": "text/x-python",
   "name": "python",
   "nbconvert_exporter": "python",
   "pygments_lexer": "ipython3",
   "version": "3.11.5"
  }
 },
 "nbformat": 4,
 "nbformat_minor": 5
}
