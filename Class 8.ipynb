{
 "cells": [
  {
   "cell_type": "code",
   "execution_count": 1,
   "id": "7311844a",
   "metadata": {},
   "outputs": [
    {
     "name": "stdout",
     "output_type": "stream",
     "text": [
      "Enter a year 2100\n",
      "Not \n"
     ]
    }
   ],
   "source": [
    "x=int(input(\"Enter a year \"))\n",
    "if(x%400==0 or (x%4==0 and x%100!=0)):\n",
    "    print(\"This is a leap Year\")\n",
    "else:\n",
    "    print(\"Not \")"
   ]
  },
  {
   "cell_type": "code",
   "execution_count": 4,
   "id": "06f350b6",
   "metadata": {},
   "outputs": [
    {
     "name": "stdout",
     "output_type": "stream",
     "text": [
      "Enter a Charector 3\n",
      "Not a english Letter \n"
     ]
    }
   ],
   "source": [
    "x=input(\"Enter a Charector \")\n",
    "if(x>='A'and x<='Z'):\n",
    "    print(\"Upper Case\")\n",
    "elif (x>='a'and x<='z'):\n",
    "    print(\"Lower case\")\n",
    "else:\n",
    "    print(\"Not a english Letter \")"
   ]
  },
  {
   "cell_type": "code",
   "execution_count": 1,
   "id": "a822acc3",
   "metadata": {},
   "outputs": [
    {
     "name": "stdout",
     "output_type": "stream",
     "text": [
      "Enter a year2100\n",
      "Not Leap Year\n"
     ]
    }
   ],
   "source": [
    "x=int(input(\"Enter a year\"))\n",
    "if(x%400==0 or (x%4==0 and x%100!=0)):\n",
    "    print(\"Leap Year\")\n",
    "else:\n",
    "     print(\"Not Leap Year\")\n"
   ]
  },
  {
   "cell_type": "code",
   "execution_count": 3,
   "id": "94ebd13a",
   "metadata": {},
   "outputs": [
    {
     "name": "stdout",
     "output_type": "stream",
     "text": [
      "s\n",
      "Lower Case\n"
     ]
    }
   ],
   "source": [
    "x=input()\n",
    "if(x>='A'and x<='Z'):\n",
    "    print(\"Upper Case\")\n",
    "elif(x>='a'and x<='z'):\n",
    "    print(\"Lower Case\")\n",
    "else:\n",
    "    print(\"Not a Engliss Letter\")\n"
   ]
  },
  {
   "cell_type": "code",
   "execution_count": 14,
   "id": "582a131c",
   "metadata": {},
   "outputs": [
    {
     "name": "stdout",
     "output_type": "stream",
     "text": [
      "3\n",
      "4\n",
      "2\n",
      "Its  a Triangle\n"
     ]
    }
   ],
   "source": [
    "x=int(input())\n",
    "y=int(input())\n",
    "z=int(input())\n",
    "if((x+y>z) and (z+y>x) and (x+z>y)):\n",
    "    print(\"Its  a Triangle\")\n",
    "\n",
    "else:\n",
    "    print(\"Its Not a Triangle\")\n",
    "        \n"
   ]
  },
  {
   "cell_type": "code",
   "execution_count": 1,
   "id": "e903f320",
   "metadata": {},
   "outputs": [
    {
     "name": "stdout",
     "output_type": "stream",
     "text": [
      "2100\n",
      "Not A leap Year\n"
     ]
    }
   ],
   "source": [
    "x=int(input())\n",
    "if(x%400==0 or (x%4==0 and x%100!=0)):\n",
    "    print(\"This is leap year\")\n",
    "else:\n",
    "    print(\"Not A leap Year\")"
   ]
  },
  {
   "cell_type": "code",
   "execution_count": 5,
   "id": "0267be08",
   "metadata": {},
   "outputs": [
    {
     "name": "stdout",
     "output_type": "stream",
     "text": [
      "7\n",
      "4\n",
      "6\n",
      "Triangle\n"
     ]
    }
   ],
   "source": [
    "a=int(input())\n",
    "b=int(input())\n",
    "c=int(input())\n",
    "if(a+b>c and a+c>b and b+c>a):\n",
    "    print(\"Triangle\")\n",
    "else:\n",
    "    print(\"Not a Triangle\")"
   ]
  },
  {
   "cell_type": "code",
   "execution_count": 8,
   "id": "68e2d2d7",
   "metadata": {},
   "outputs": [
    {
     "name": "stdout",
     "output_type": "stream",
     "text": [
      "34\n",
      "Out of number\n"
     ]
    }
   ],
   "source": [
    "x=int(input())\n",
    "if(x==3 or x==1 or x==5 or x==7 or x==8 or x==12 or x==10):\n",
    "    print(\"31 days\")\n",
    "elif(x==2):\n",
    "    print(\"29 dyas\")\n",
    "elif(x==4 or x==6 or x==9 or x==11 ):\n",
    "    print(\"30 days\")\n",
    "else:\n",
    "    print(\"Out of number\")\n"
   ]
  },
  {
   "cell_type": "code",
   "execution_count": 9,
   "id": "ae9f3fef",
   "metadata": {},
   "outputs": [
    {
     "name": "stdout",
     "output_type": "stream",
     "text": [
      "E\n",
      "Upper case\n"
     ]
    }
   ],
   "source": [
    "x=input(\"\")\n",
    "if(x>='A' and x<='Z'):\n",
    "    print(\"Upper case\")\n",
    "elif(x>='a' and x<='z'):\n",
    "    print(\"Lower Case\")\n",
    "else:\n",
    "    print(\"No English Letter\")"
   ]
  },
  {
   "cell_type": "code",
   "execution_count": null,
   "id": "e6d42460",
   "metadata": {},
   "outputs": [],
   "source": []
  }
 ],
 "metadata": {
  "kernelspec": {
   "display_name": "Python 3 (ipykernel)",
   "language": "python",
   "name": "python3"
  },
  "language_info": {
   "codemirror_mode": {
    "name": "ipython",
    "version": 3
   },
   "file_extension": ".py",
   "mimetype": "text/x-python",
   "name": "python",
   "nbconvert_exporter": "python",
   "pygments_lexer": "ipython3",
   "version": "3.11.5"
  }
 },
 "nbformat": 4,
 "nbformat_minor": 5
}
