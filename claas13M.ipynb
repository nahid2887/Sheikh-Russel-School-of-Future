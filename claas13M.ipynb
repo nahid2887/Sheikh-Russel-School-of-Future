{
 "cells": [
  {
   "cell_type": "code",
   "execution_count": 25,
   "id": "214c5054",
   "metadata": {},
   "outputs": [
    {
     "name": "stdout",
     "output_type": "stream",
     "text": [
      "<class 'str'>\n"
     ]
    }
   ],
   "source": [
    "a=\"python\"\n",
    "print(type(a))"
   ]
  },
  {
   "cell_type": "code",
   "execution_count": 2,
   "id": "10dc726e",
   "metadata": {},
   "outputs": [
    {
     "name": "stdout",
     "output_type": "stream",
     "text": [
      "MY NAME IS NAHID\n"
     ]
    }
   ],
   "source": [
    "s=\"my name is nahid\"\n",
    "print(s.upper())"
   ]
  },
  {
   "cell_type": "code",
   "execution_count": 14,
   "id": "c4454fa0",
   "metadata": {},
   "outputs": [
    {
     "name": "stdout",
     "output_type": "stream",
     "text": [
      "md nahid hasan\n"
     ]
    }
   ],
   "source": [
    "a=\"MD NAHID HASAN\"\n",
    "print(a.lower())\n"
   ]
  },
  {
   "cell_type": "code",
   "execution_count": 15,
   "id": "d0266688",
   "metadata": {},
   "outputs": [],
   "source": [
    "al=a.replace('HASAN','SIAM')"
   ]
  },
  {
   "cell_type": "code",
   "execution_count": 16,
   "id": "2f78d186",
   "metadata": {},
   "outputs": [
    {
     "name": "stdout",
     "output_type": "stream",
     "text": [
      "MD NAHID SIAM\n"
     ]
    }
   ],
   "source": [
    "print(al)"
   ]
  },
  {
   "cell_type": "code",
   "execution_count": 17,
   "id": "2d3c5f37",
   "metadata": {},
   "outputs": [
    {
     "name": "stdout",
     "output_type": "stream",
     "text": [
      "['python', 'is', 'good']\n"
     ]
    }
   ],
   "source": [
    "b=\"python is good\"\n",
    "print(b.split())"
   ]
  },
  {
   "cell_type": "code",
   "execution_count": 19,
   "id": "4eded5d5",
   "metadata": {},
   "outputs": [
    {
     "name": "stdout",
     "output_type": "stream",
     "text": [
      "-1\n"
     ]
    }
   ],
   "source": [
    "s=\"i love my country\"\n",
    "print(s.find(\"nahid\"))"
   ]
  },
  {
   "cell_type": "code",
   "execution_count": 21,
   "id": "270045de",
   "metadata": {},
   "outputs": [
    {
     "name": "stdout",
     "output_type": "stream",
     "text": [
      "2\n"
     ]
    }
   ],
   "source": [
    "print(s.count(\"o\"))"
   ]
  },
  {
   "cell_type": "code",
   "execution_count": 24,
   "id": "5ea22d36",
   "metadata": {},
   "outputs": [
    {
     "name": "stdout",
     "output_type": "stream",
     "text": [
      "My Name is  Nahid siam\n"
     ]
    }
   ],
   "source": [
    "firstname=\"Nahid \"\n",
    "lastname=\"siam\"\n",
    "print(\"My Name is \",firstname+lastname)"
   ]
  },
  {
   "cell_type": "code",
   "execution_count": 27,
   "id": "54d1b998",
   "metadata": {},
   "outputs": [
    {
     "name": "stdout",
     "output_type": "stream",
     "text": [
      "16\n"
     ]
    }
   ],
   "source": [
    "s=\"My Name is Nahid\"\n",
    "print(len(s))"
   ]
  },
  {
   "cell_type": "code",
   "execution_count": 28,
   "id": "442506a2",
   "metadata": {},
   "outputs": [
    {
     "name": "stdout",
     "output_type": "stream",
     "text": [
      "my name is nahid\n"
     ]
    }
   ],
   "source": [
    "print(s.lower())"
   ]
  },
  {
   "cell_type": "code",
   "execution_count": 29,
   "id": "8e47a0ff",
   "metadata": {},
   "outputs": [
    {
     "name": "stdout",
     "output_type": "stream",
     "text": [
      "MY NAME IS NAHID\n"
     ]
    }
   ],
   "source": [
    "print(s.upper())"
   ]
  },
  {
   "cell_type": "code",
   "execution_count": 31,
   "id": "6eed2f44",
   "metadata": {},
   "outputs": [
    {
     "name": "stdout",
     "output_type": "stream",
     "text": [
      "Digital bangladesh\n",
      "Smart bangladesh\n"
     ]
    }
   ],
   "source": [
    "m=\"Digital bangladesh\"\n",
    "print(m)\n",
    "ms=m.replace(\"Digital\",\"Smart\")\n",
    "print(ms)"
   ]
  },
  {
   "cell_type": "code",
   "execution_count": 32,
   "id": "9e21be35",
   "metadata": {},
   "outputs": [
    {
     "name": "stdout",
     "output_type": "stream",
     "text": [
      "['Digital', 'bangladesh']\n"
     ]
    }
   ],
   "source": [
    "print(m.split())"
   ]
  },
  {
   "cell_type": "code",
   "execution_count": 38,
   "id": "06e386f5",
   "metadata": {},
   "outputs": [
    {
     "name": "stdout",
     "output_type": "stream",
     "text": [
      "17\n"
     ]
    }
   ],
   "source": [
    "x=\"I love my country\"\n",
    "print(len(x))"
   ]
  },
  {
   "cell_type": "code",
   "execution_count": 39,
   "id": "e3478b84",
   "metadata": {},
   "outputs": [
    {
     "name": "stdout",
     "output_type": "stream",
     "text": [
      "['I', 'love', 'my', 'country']\n"
     ]
    }
   ],
   "source": [
    "print(x.split())"
   ]
  },
  {
   "cell_type": "code",
   "execution_count": 36,
   "id": "4e8c0b6e",
   "metadata": {},
   "outputs": [
    {
     "name": "stdout",
     "output_type": "stream",
     "text": [
      "2\n"
     ]
    }
   ],
   "source": [
    "print(x.count(\"o\"))"
   ]
  },
  {
   "cell_type": "code",
   "execution_count": 37,
   "id": "062f430b",
   "metadata": {},
   "outputs": [
    {
     "name": "stdout",
     "output_type": "stream",
     "text": [
      "nahid Siam\n"
     ]
    }
   ],
   "source": [
    "s=\"nahid \"\n",
    "m=\"Siam\"\n",
    "print(s+m)"
   ]
  },
  {
   "cell_type": "code",
   "execution_count": 40,
   "id": "2c57e8f1",
   "metadata": {},
   "outputs": [
    {
     "name": "stdout",
     "output_type": "stream",
     "text": [
      "<class 'str'>\n"
     ]
    }
   ],
   "source": [
    "a=\"python lover\"\n",
    "print(type(a))"
   ]
  },
  {
   "cell_type": "code",
   "execution_count": 41,
   "id": "5e8450bb",
   "metadata": {},
   "outputs": [
    {
     "name": "stdout",
     "output_type": "stream",
     "text": [
      "I LOVE MY COUNTRY\n"
     ]
    }
   ],
   "source": [
    "b=\"i love my country\"\n",
    "print(b.upper())"
   ]
  },
  {
   "cell_type": "code",
   "execution_count": 42,
   "id": "88cbd2fb",
   "metadata": {},
   "outputs": [
    {
     "name": "stdout",
     "output_type": "stream",
     "text": [
      "digital bangladesh\n"
     ]
    }
   ],
   "source": [
    "b=\"DIGITAL BANGLADESH\"\n",
    "print(b.lower())"
   ]
  },
  {
   "cell_type": "code",
   "execution_count": 45,
   "id": "d8dbc0a6",
   "metadata": {},
   "outputs": [
    {
     "name": "stdout",
     "output_type": "stream",
     "text": [
      "digital bangladesh\n",
      "Nahid bangladesh\n"
     ]
    }
   ],
   "source": [
    "b=\"digital bangladesh\"\n",
    "print(b)\n",
    "ds=b.replace(\"digital\",'Nahid')\n",
    "print(ds)"
   ]
  },
  {
   "cell_type": "code",
   "execution_count": 47,
   "id": "0bae8cee",
   "metadata": {},
   "outputs": [
    {
     "name": "stdout",
     "output_type": "stream",
     "text": [
      "-1\n"
     ]
    }
   ],
   "source": [
    "m=\"I love my country\"\n",
    "print(m.find(\"nahid\"))"
   ]
  },
  {
   "cell_type": "code",
   "execution_count": 48,
   "id": "b4987db7",
   "metadata": {},
   "outputs": [
    {
     "name": "stdout",
     "output_type": "stream",
     "text": [
      "2\n"
     ]
    }
   ],
   "source": [
    "print(m.count(\"o\"))"
   ]
  },
  {
   "cell_type": "code",
   "execution_count": 52,
   "id": "3a6742fc",
   "metadata": {},
   "outputs": [
    {
     "name": "stdout",
     "output_type": "stream",
     "text": [
      "nahid siam\n"
     ]
    }
   ],
   "source": [
    "f=\"nahid \"\n",
    "n=\"siam\"\n",
    "print(f+n)"
   ]
  },
  {
   "cell_type": "code",
   "execution_count": null,
   "id": "e34a2343",
   "metadata": {},
   "outputs": [],
   "source": []
  },
  {
   "cell_type": "code",
   "execution_count": null,
   "id": "e17d7f12",
   "metadata": {},
   "outputs": [],
   "source": []
  }
 ],
 "metadata": {
  "kernelspec": {
   "display_name": "Python 3 (ipykernel)",
   "language": "python",
   "name": "python3"
  },
  "language_info": {
   "codemirror_mode": {
    "name": "ipython",
    "version": 3
   },
   "file_extension": ".py",
   "mimetype": "text/x-python",
   "name": "python",
   "nbconvert_exporter": "python",
   "pygments_lexer": "ipython3",
   "version": "3.11.5"
  }
 },
 "nbformat": 4,
 "nbformat_minor": 5
}
