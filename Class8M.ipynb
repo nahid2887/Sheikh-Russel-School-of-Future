{
 "cells": [
  {
   "cell_type": "code",
   "execution_count": 1,
   "id": "501d6472",
   "metadata": {},
   "outputs": [
    {
     "name": "stdout",
     "output_type": "stream",
     "text": [
      "45\n",
      "Odd Number\n"
     ]
    }
   ],
   "source": [
    "x=int(input())\n",
    "if(x%2==0):\n",
    "    print(\"Even Number\")\n",
    "else:\n",
    "    print(\"Odd Number\")"
   ]
  },
  {
   "cell_type": "code",
   "execution_count": 3,
   "id": "894759ad",
   "metadata": {},
   "outputs": [
    {
     "name": "stdout",
     "output_type": "stream",
     "text": [
      "2024\n",
      "2024  Is a Leap Year\n"
     ]
    }
   ],
   "source": [
    "x=int(input())\n",
    "if(x%400==0 or (x%4==0 and x%100!=0)):\n",
    "    print(x,\" Is a Leap Year\")\n",
    "else:\n",
    "    print(x,\" Is not a Leap Year\")"
   ]
  },
  {
   "cell_type": "code",
   "execution_count": 1,
   "id": "ab7d8a3c",
   "metadata": {},
   "outputs": [
    {
     "name": "stdout",
     "output_type": "stream",
     "text": [
      "55\n",
      "Odd Number\n"
     ]
    }
   ],
   "source": [
    "x=int(input())\n",
    "if(x%2==0):\n",
    "    print(\"Even Number\")\n",
    "else:\n",
    "    print(\"Odd Number\")"
   ]
  },
  {
   "cell_type": "code",
   "execution_count": 2,
   "id": "926d257c",
   "metadata": {},
   "outputs": [
    {
     "name": "stdout",
     "output_type": "stream",
     "text": [
      "453\n",
      "453  Not  Leap year\n"
     ]
    }
   ],
   "source": [
    "y=int(input())\n",
    "if(y%400==0 or (y%4==0 and y%100!=0)):\n",
    "    print(y,\" Leap year\")\n",
    "else:\n",
    "     print(y,\" Not  Leap year\")"
   ]
  },
  {
   "cell_type": "code",
   "execution_count": 3,
   "id": "579c24e4",
   "metadata": {},
   "outputs": [
    {
     "name": "stdout",
     "output_type": "stream",
     "text": [
      "E\n",
      "Cappital Letter\n"
     ]
    }
   ],
   "source": [
    "x=input()\n",
    "if(x>='A' and x<='Z'):\n",
    "    print(\"Capital Letter\")\n",
    "elif(x>='a' and x<='z'):\n",
    "    print(\"Small Letter\")\n",
    "else:\n",
    "    print(\"Not English letter\")"
   ]
  },
  {
   "cell_type": "code",
   "execution_count": 5,
   "id": "3a9a51d2",
   "metadata": {},
   "outputs": [
    {
     "name": "stdout",
     "output_type": "stream",
     "text": [
      "545\n",
      "545  is a odd number\n"
     ]
    }
   ],
   "source": [
    "x=int(input())\n",
    "if(x%2==0):\n",
    "    print(x,\" is a even number\")\n",
    "else:\n",
    "    print(x, \" is a odd number\")"
   ]
  },
  {
   "cell_type": "code",
   "execution_count": 6,
   "id": "d31eca9a",
   "metadata": {},
   "outputs": [
    {
     "name": "stdout",
     "output_type": "stream",
     "text": [
      "564\n",
      "564  is Leap year\n"
     ]
    }
   ],
   "source": [
    "y=int(input())\n",
    "if(y%400==0 or (y%4==0 and y%100!=0)):\n",
    "    print(y, \" is Leap year\")\n",
    "else:\n",
    "    print(y, \" is not Leap year\")"
   ]
  },
  {
   "cell_type": "code",
   "execution_count": 8,
   "id": "cfd3b5ae",
   "metadata": {},
   "outputs": [
    {
     "name": "stdout",
     "output_type": "stream",
     "text": [
      "4\n"
     ]
    },
    {
     "ename": "TypeError",
     "evalue": "'>=' not supported between instances of 'str' and 'int'",
     "output_type": "error",
     "traceback": [
      "\u001b[1;31m---------------------------------------------------------------------------\u001b[0m",
      "\u001b[1;31mTypeError\u001b[0m                                 Traceback (most recent call last)",
      "Cell \u001b[1;32mIn[8], line 6\u001b[0m\n\u001b[0;32m      4\u001b[0m \u001b[38;5;28;01melif\u001b[39;00m x\u001b[38;5;241m>\u001b[39m\u001b[38;5;241m=\u001b[39m\u001b[38;5;124m'\u001b[39m\u001b[38;5;124ma\u001b[39m\u001b[38;5;124m'\u001b[39m \u001b[38;5;129;01mand\u001b[39;00m x\u001b[38;5;241m<\u001b[39m\u001b[38;5;241m=\u001b[39m\u001b[38;5;124m'\u001b[39m\u001b[38;5;124mz\u001b[39m\u001b[38;5;124m'\u001b[39m:\n\u001b[0;32m      5\u001b[0m     \u001b[38;5;28mprint\u001b[39m(\u001b[38;5;124m\"\u001b[39m\u001b[38;5;124mSmall Letter\u001b[39m\u001b[38;5;124m\"\u001b[39m)\n\u001b[1;32m----> 6\u001b[0m \u001b[38;5;28;01melif\u001b[39;00m(x\u001b[38;5;241m>\u001b[39m\u001b[38;5;241m=\u001b[39m\u001b[38;5;241m0\u001b[39m \u001b[38;5;129;01mand\u001b[39;00m x\u001b[38;5;241m<\u001b[39m\u001b[38;5;241m=\u001b[39m\u001b[38;5;241m10\u001b[39m):\n\u001b[0;32m      7\u001b[0m     \u001b[38;5;28mprint\u001b[39m(\u001b[38;5;124m\"\u001b[39m\u001b[38;5;124mNumarik numbe\u001b[39m\u001b[38;5;124m\"\u001b[39m)\n\u001b[0;32m      8\u001b[0m \u001b[38;5;28;01melse\u001b[39;00m:\n",
      "\u001b[1;31mTypeError\u001b[0m: '>=' not supported between instances of 'str' and 'int'"
     ]
    }
   ],
   "source": [
    "x=input()\n",
    "if x>='A' and x<='Z':\n",
    "    print(\"Capital Letter\")\n",
    "elif x>='a' and x<='z':\n",
    "    print(\"Small Letter\")\n",
    "else:\n",
    "    print(\" it's not a English Letter\")"
   ]
  },
  {
   "cell_type": "code",
   "execution_count": null,
   "id": "29c95443",
   "metadata": {},
   "outputs": [],
   "source": []
  }
 ],
 "metadata": {
  "kernelspec": {
   "display_name": "Python 3 (ipykernel)",
   "language": "python",
   "name": "python3"
  },
  "language_info": {
   "codemirror_mode": {
    "name": "ipython",
    "version": 3
   },
   "file_extension": ".py",
   "mimetype": "text/x-python",
   "name": "python",
   "nbconvert_exporter": "python",
   "pygments_lexer": "ipython3",
   "version": "3.11.5"
  }
 },
 "nbformat": 4,
 "nbformat_minor": 5
}
