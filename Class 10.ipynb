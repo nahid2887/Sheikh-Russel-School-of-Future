{
 "cells": [
  {
   "cell_type": "code",
   "execution_count": 1,
   "id": "e3b7d78f",
   "metadata": {},
   "outputs": [
    {
     "name": "stdout",
     "output_type": "stream",
     "text": [
      "10\n",
      "9\n",
      "8\n",
      "7\n",
      "6\n",
      "5\n",
      "4\n",
      "3\n",
      "2\n",
      "1\n",
      "0\n"
     ]
    }
   ],
   "source": [
    "i=10\n",
    "while(i>=0):\n",
    "    print(i)\n",
    "    i-=1"
   ]
  },
  {
   "cell_type": "code",
   "execution_count": 4,
   "id": "a290efb1",
   "metadata": {},
   "outputs": [
    {
     "name": "stdout",
     "output_type": "stream",
     "text": [
      "0\n",
      "1\n",
      "2\n",
      "3\n",
      "4\n",
      "5\n",
      "6\n",
      "7\n",
      "8\n",
      "9\n"
     ]
    }
   ],
   "source": [
    "for i in range (10):\n",
    "    print(i)"
   ]
  },
  {
   "cell_type": "code",
   "execution_count": 5,
   "id": "2de6bf76",
   "metadata": {},
   "outputs": [
    {
     "name": "stdout",
     "output_type": "stream",
     "text": [
      "10\n",
      "11\n",
      "12\n",
      "13\n",
      "14\n",
      "15\n",
      "16\n",
      "17\n",
      "18\n",
      "19\n"
     ]
    }
   ],
   "source": [
    "for i in range(10,20):\n",
    "    print(i)"
   ]
  },
  {
   "cell_type": "code",
   "execution_count": 8,
   "id": "e93972b7",
   "metadata": {},
   "outputs": [
    {
     "name": "stdout",
     "output_type": "stream",
     "text": [
      "30\n",
      "29\n",
      "28\n",
      "27\n",
      "26\n",
      "25\n",
      "24\n",
      "23\n",
      "22\n",
      "21\n",
      "20\n",
      "19\n",
      "18\n",
      "17\n",
      "16\n",
      "15\n",
      "14\n",
      "13\n",
      "12\n",
      "11\n",
      "10\n"
     ]
    }
   ],
   "source": [
    "for i in range (30,9,-1):\n",
    "    print(i)"
   ]
  },
  {
   "cell_type": "code",
   "execution_count": 10,
   "id": "fe762426",
   "metadata": {},
   "outputs": [
    {
     "name": "stdout",
     "output_type": "stream",
     "text": [
      "Student Roll  20\n",
      "Enter Bangla Mark 87\n",
      "Got A+ in Bangla\n",
      "Enter English Mark 75\n",
      "Not Got  A+ in English\n",
      "Enter Math Mark 90\n",
      "Got A+ in math\n",
      "Student Roll  21\n",
      "Enter Bangla Mark 76\n",
      "Not Got  A+ in Bangla\n",
      "Enter English Mark 80\n",
      "Got A+ in English\n",
      "Enter Math Mark 90\n",
      "Got A+ in math\n",
      "Student Roll  22\n",
      "Enter Bangla Mark 80\n",
      "Got A+ in Bangla\n",
      "Enter English Mark 83\n",
      "Got A+ in English\n",
      "Enter Math Mark 96\n",
      "Got A+ in math\n"
     ]
    }
   ],
   "source": [
    "for i in range(20,23):\n",
    "    print(\"Student Roll \",i)\n",
    "    for j in range(3):\n",
    "        if j==0:\n",
    "            b=int(input(\"Enter Bangla Mark \"))\n",
    "            if b>=80:\n",
    "                print(\"Got A+ in Bangla\")\n",
    "            else:\n",
    "                print(\"Not Got  A+ in Bangla\")\n",
    "        elif j==1:\n",
    "            E=int(input(\"Enter English Mark \"))\n",
    "            if E>=80:\n",
    "                print(\"Got A+ in English\")\n",
    "            else:\n",
    "                print(\"Not Got  A+ in English\")\n",
    "        else:\n",
    "            m=int(input(\"Enter Math Mark \"))\n",
    "            if m>=80:\n",
    "                print(\"Got A+ in math\")\n",
    "            else:\n",
    "                print(\"Not Got  A+ in Math\")\n",
    "            "
   ]
  },
  {
   "cell_type": "code",
   "execution_count": 11,
   "id": "37f33148",
   "metadata": {},
   "outputs": [
    {
     "name": "stdout",
     "output_type": "stream",
     "text": [
      "2\n",
      "3\n"
     ]
    }
   ],
   "source": [
    "for i in range (2,5):\n",
    "    print(i)\n",
    "    if(i==3):\n",
    "        break"
   ]
  },
  {
   "cell_type": "code",
   "execution_count": 16,
   "id": "791fbf8b",
   "metadata": {},
   "outputs": [
    {
     "name": "stdout",
     "output_type": "stream",
     "text": [
      "97\n",
      "This is prime \n"
     ]
    }
   ],
   "source": [
    "x=int(input())\n",
    "for i in range(2,x):\n",
    "    if(x%i==0):\n",
    "        break\n",
    "#print(i)\n",
    "if(i==x-1):\n",
    "    print(\"This is prime \")\n",
    "else:\n",
    "    print(\"Not Prime number\")"
   ]
  },
  {
   "cell_type": "code",
   "execution_count": 17,
   "id": "a5147e93",
   "metadata": {},
   "outputs": [
    {
     "name": "stdout",
     "output_type": "stream",
     "text": [
      "0\n",
      "1\n",
      "2\n",
      "3\n",
      "4\n",
      "5\n",
      "6\n",
      "7\n",
      "8\n",
      "9\n",
      "10\n",
      "11\n",
      "12\n",
      "13\n",
      "14\n",
      "15\n",
      "16\n",
      "17\n",
      "18\n",
      "19\n"
     ]
    }
   ],
   "source": [
    "for i in range(20):#i<20\n",
    "    print(i)"
   ]
  },
  {
   "cell_type": "code",
   "execution_count": 18,
   "id": "7b679879",
   "metadata": {},
   "outputs": [
    {
     "name": "stdout",
     "output_type": "stream",
     "text": [
      "20\n",
      "21\n",
      "22\n",
      "23\n",
      "24\n",
      "25\n",
      "26\n",
      "27\n",
      "28\n",
      "29\n",
      "30\n",
      "31\n",
      "32\n",
      "33\n",
      "34\n",
      "35\n",
      "36\n",
      "37\n",
      "38\n",
      "39\n",
      "40\n",
      "41\n",
      "42\n",
      "43\n",
      "44\n",
      "45\n",
      "46\n",
      "47\n",
      "48\n",
      "49\n"
     ]
    }
   ],
   "source": [
    "for i in range (20,50):\n",
    "    print(i)"
   ]
  },
  {
   "cell_type": "code",
   "execution_count": 19,
   "id": "bab32005",
   "metadata": {},
   "outputs": [
    {
     "name": "stdout",
     "output_type": "stream",
     "text": [
      "20\n",
      "22\n",
      "24\n",
      "26\n",
      "28\n",
      "30\n",
      "32\n",
      "34\n",
      "36\n",
      "38\n",
      "40\n",
      "42\n",
      "44\n",
      "46\n",
      "48\n"
     ]
    }
   ],
   "source": [
    "for i in range(20,50,2):\n",
    "    print(i)"
   ]
  },
  {
   "cell_type": "code",
   "execution_count": 20,
   "id": "0852ba68",
   "metadata": {},
   "outputs": [
    {
     "name": "stdout",
     "output_type": "stream",
     "text": [
      "20\n",
      "19\n",
      "18\n",
      "17\n",
      "16\n",
      "15\n",
      "14\n",
      "13\n",
      "12\n",
      "11\n",
      "10\n",
      "9\n",
      "8\n",
      "7\n",
      "6\n",
      "5\n",
      "4\n",
      "3\n",
      "2\n",
      "1\n"
     ]
    }
   ],
   "source": [
    "for i in range(20,0,-1):\n",
    "    print(i)"
   ]
  },
  {
   "cell_type": "code",
   "execution_count": 24,
   "id": "ab545c2e",
   "metadata": {},
   "outputs": [
    {
     "name": "stdout",
     "output_type": "stream",
     "text": [
      "0\n",
      "1\n",
      "0\n",
      "1\n",
      "0\n",
      "1\n"
     ]
    }
   ],
   "source": [
    "for i in range(2,5):\n",
    "    for j in range(3):\n",
    "        print(j)\n",
    "        if(j==1):\n",
    "            break\n",
    "    \n",
    "   "
   ]
  },
  {
   "cell_type": "code",
   "execution_count": 32,
   "id": "3358b05f",
   "metadata": {},
   "outputs": [
    {
     "name": "stdout",
     "output_type": "stream",
     "text": [
      "91\n",
      "91  Is a non prime number\n"
     ]
    }
   ],
   "source": [
    "x=int(input())\n",
    "n=int(x*0.5)+1\n",
    "for i in range(2,n):\n",
    "    if(x%i==0):\n",
    "        break\n",
    "if(i==n-1):\n",
    "    print(x,\" Is a prime number\")\n",
    "else:\n",
    "    print(x,\" Is a non prime number\")"
   ]
  },
  {
   "cell_type": "code",
   "execution_count": 1,
   "id": "5bfeca6e",
   "metadata": {},
   "outputs": [
    {
     "name": "stdout",
     "output_type": "stream",
     "text": [
      "number  0\n",
      "number  1\n",
      "number  2\n",
      "number  3\n",
      "number  4\n",
      "number  5\n",
      "number  6\n",
      "number  7\n",
      "number  8\n",
      "number  9\n"
     ]
    }
   ],
   "source": [
    "for i in range (10):\n",
    "    print(\"number \",i)"
   ]
  },
  {
   "cell_type": "code",
   "execution_count": 2,
   "id": "e258830b",
   "metadata": {},
   "outputs": [
    {
     "name": "stdout",
     "output_type": "stream",
     "text": [
      "number  20\n",
      "number  21\n",
      "number  22\n",
      "number  23\n",
      "number  24\n",
      "number  25\n",
      "number  26\n",
      "number  27\n",
      "number  28\n",
      "number  29\n",
      "number  30\n",
      "number  31\n",
      "number  32\n",
      "number  33\n",
      "number  34\n",
      "number  35\n",
      "number  36\n",
      "number  37\n",
      "number  38\n",
      "number  39\n",
      "number  40\n",
      "number  41\n",
      "number  42\n",
      "number  43\n",
      "number  44\n",
      "number  45\n",
      "number  46\n",
      "number  47\n",
      "number  48\n",
      "number  49\n"
     ]
    }
   ],
   "source": [
    "for i in range (20,50):\n",
    "    print(\"number \",i)"
   ]
  },
  {
   "cell_type": "code",
   "execution_count": 4,
   "id": "6bdd6172",
   "metadata": {},
   "outputs": [
    {
     "name": "stdout",
     "output_type": "stream",
     "text": [
      "number  50\n",
      "number  49\n",
      "number  48\n",
      "number  47\n",
      "number  46\n",
      "number  45\n",
      "number  44\n",
      "number  43\n",
      "number  42\n",
      "number  41\n",
      "number  40\n",
      "number  39\n",
      "number  38\n",
      "number  37\n",
      "number  36\n",
      "number  35\n",
      "number  34\n",
      "number  33\n",
      "number  32\n",
      "number  31\n",
      "number  30\n",
      "number  29\n",
      "number  28\n",
      "number  27\n",
      "number  26\n",
      "number  25\n",
      "number  24\n",
      "number  23\n",
      "number  22\n",
      "number  21\n"
     ]
    }
   ],
   "source": [
    "for i in range(50,20,-1):\n",
    "    print(\"number \",i)"
   ]
  },
  {
   "cell_type": "code",
   "execution_count": 6,
   "id": "d782f4af",
   "metadata": {},
   "outputs": [
    {
     "name": "stdout",
     "output_type": "stream",
     "text": [
      "Student Roll  20\n",
      "Enter Bangla Number56\n",
      "He got bellow A+\n",
      "Enter English Number77\n",
      "He got bellow A+\n",
      "Enter Math Number89\n",
      "HE got A+ in Math \n",
      "Student Roll  21\n",
      "Enter Bangla Number78\n",
      "He got bellow A+\n",
      "Enter English Number96\n",
      "HE got A+ in English \n",
      "Enter Math Number56\n",
      "He got bellow A+\n",
      "Student Roll  22\n",
      "Enter Bangla Number88\n",
      "HE got A+ in Bangla\n",
      "Enter English Number97\n",
      "HE got A+ in English \n",
      "Enter Math Number89\n",
      "HE got A+ in Math \n"
     ]
    }
   ],
   "source": [
    "for i in range(20,23):\n",
    "    print(\"Student Roll \",i)\n",
    "    for j in range (3):\n",
    "        if j==0:\n",
    "            b=int(input(\"Enter Bangla Number\"))\n",
    "            if b>=80:\n",
    "                print(\"HE got A+ in Bangla\")\n",
    "            else:\n",
    "                print(\"He got bellow A+\")\n",
    "        elif j==1:\n",
    "            e=int(input(\"Enter English Number\"))\n",
    "            if e>=80:\n",
    "                print(\"HE got A+ in English \")\n",
    "            else:\n",
    "                print(\"He got bellow A+\")\n",
    "        else:\n",
    "            \n",
    "            m=int(input(\"Enter Math Number\"))\n",
    "            if m>=80:\n",
    "                print(\"HE got A+ in Math \")\n",
    "            else:\n",
    "                print(\"He got bellow A+\")\n",
    "        "
   ]
  },
  {
   "cell_type": "code",
   "execution_count": 7,
   "id": "ef107f9a",
   "metadata": {},
   "outputs": [
    {
     "name": "stdout",
     "output_type": "stream",
     "text": [
      "0\n",
      "1\n",
      "2\n",
      "3\n",
      "4\n",
      "5\n",
      "6\n",
      "7\n",
      "8\n",
      "9\n",
      "10\n",
      "11\n",
      "12\n",
      "13\n",
      "14\n",
      "15\n",
      "16\n",
      "17\n",
      "18\n",
      "19\n",
      "20\n",
      "21\n",
      "22\n",
      "23\n",
      "24\n",
      "25\n",
      "26\n",
      "27\n",
      "28\n",
      "29\n",
      "30\n",
      "31\n",
      "32\n",
      "33\n",
      "34\n",
      "35\n",
      "36\n",
      "37\n",
      "38\n",
      "39\n",
      "40\n",
      "41\n",
      "42\n",
      "43\n",
      "44\n"
     ]
    }
   ],
   "source": [
    "for i in range(100):\n",
    "    print(i)\n",
    "    if(i==44):\n",
    "        break"
   ]
  },
  {
   "cell_type": "code",
   "execution_count": 12,
   "id": "c537f4ad",
   "metadata": {},
   "outputs": [
    {
     "name": "stdout",
     "output_type": "stream",
     "text": [
      "7\n",
      "7  Is a prime Number\n"
     ]
    }
   ],
   "source": [
    "x=int(input())\n",
    "for i in range (2,x):\n",
    "    if(x%i==0):\n",
    "        break\n",
    "if(i==x-1):\n",
    "    print(x,\" Is a prime Number\")\n",
    "else:\n",
    "    print(x,\" Is a Non prime Number\")"
   ]
  },
  {
   "cell_type": "code",
   "execution_count": 3,
   "id": "93fbdf85",
   "metadata": {},
   "outputs": [
    {
     "name": "stdout",
     "output_type": "stream",
     "text": [
      "9.0\n"
     ]
    }
   ],
   "source": [
    "print((2+4**2)/2)"
   ]
  },
  {
   "cell_type": "code",
   "execution_count": 4,
   "id": "752b4965",
   "metadata": {},
   "outputs": [],
   "source": [
    "capitals = {\n",
    "    \"India\": \"New Delhi\",\n",
    "    \"Nigeria\": \"Abuja\",\n",
    "    \"USA\": \"Washington, DC\"\n",
    "}"
   ]
  },
  {
   "cell_type": "code",
   "execution_count": 7,
   "id": "74038ae5",
   "metadata": {},
   "outputs": [
    {
     "name": "stdout",
     "output_type": "stream",
     "text": [
      "{'India': 'New Delhi', 'Nigeria': 'Abuja', 'USA': 'Washington, DC', 'Pakistan': 'Islamabad'}\n"
     ]
    }
   ],
   "source": [
    "print(capitals)"
   ]
  },
  {
   "cell_type": "code",
   "execution_count": 6,
   "id": "144b7759",
   "metadata": {},
   "outputs": [],
   "source": [
    "capitals[\"Pakistan\"] = \"Islamabad\""
   ]
  },
  {
   "cell_type": "code",
   "execution_count": null,
   "id": "94621b28",
   "metadata": {},
   "outputs": [],
   "source": []
  }
 ],
 "metadata": {
  "kernelspec": {
   "display_name": "Python 3 (ipykernel)",
   "language": "python",
   "name": "python3"
  },
  "language_info": {
   "codemirror_mode": {
    "name": "ipython",
    "version": 3
   },
   "file_extension": ".py",
   "mimetype": "text/x-python",
   "name": "python",
   "nbconvert_exporter": "python",
   "pygments_lexer": "ipython3",
   "version": "3.11.5"
  }
 },
 "nbformat": 4,
 "nbformat_minor": 5
}
