{
 "cells": [
  {
   "cell_type": "code",
   "execution_count": 4,
   "id": "ef879bf5",
   "metadata": {},
   "outputs": [
    {
     "name": "stdout",
     "output_type": "stream",
     "text": [
      "26\n",
      "He get F\n"
     ]
    }
   ],
   "source": [
    "mark=int(input())\n",
    "if(mark>=80):\n",
    "    print(\"He get A+\")\n",
    "elif(mark>=70 and mark<80):\n",
    "    print(\"He get A\")\n",
    "elif(mark>=60 and mark<70):\n",
    "    print(\"He get A-\")\n",
    "elif(mark>=50 and mark<60):\n",
    "    print(\"He get B\")\n",
    "elif(mark>=40 and mark<50):\n",
    "    print(\"He get c\")\n",
    "elif(mark>=33 and mark<40):\n",
    "    print(\"He get D\")\n",
    "\n",
    "else:\n",
    "    print(\"He get F\")\n",
    "\n",
    "#60-69 A-\n",
    "#50-59 B\n",
    "#40-49 c\n",
    "#33-39 D\n",
    "#0-32 f"
   ]
  },
  {
   "cell_type": "code",
   "execution_count": 3,
   "id": "34a30a76",
   "metadata": {},
   "outputs": [
    {
     "name": "stdout",
     "output_type": "stream",
     "text": [
      "Enter marks 66\n",
      "Sorry! He not get prize\n"
     ]
    }
   ],
   "source": [
    "m=int(input(\"Enter marks \"))\n",
    "if(m>=80):\n",
    "    print(\"He got Prize\")\n",
    "\n",
    "else:\n",
    "    print(\"Sorry! He not get prize\")"
   ]
  },
  {
   "cell_type": "code",
   "execution_count": 6,
   "id": "9863c77d",
   "metadata": {},
   "outputs": [
    {
     "name": "stdout",
     "output_type": "stream",
     "text": [
      "78\n",
      "45\n",
      "99\n",
      "99\n"
     ]
    }
   ],
   "source": [
    "n1=int(input())\n",
    "n2=int(input())\n",
    "n3=int(input())\n",
    "if(n1>n2):\n",
    "    x=n1\n",
    "elif(n1==n2):\n",
    "    x=n1\n",
    "else:\n",
    "    x=n2\n",
    "\n",
    "if(x>n3):\n",
    "    print(x)\n",
    "elif(x==n3):\n",
    "    print(x)\n",
    "else:\n",
    "    print(n3)\n",
    "\n",
    "    "
   ]
  },
  {
   "cell_type": "code",
   "execution_count": 2,
   "id": "119c3bdf",
   "metadata": {},
   "outputs": [
    {
     "name": "stdout",
     "output_type": "stream",
     "text": [
      "85\n",
      "Prize!\n"
     ]
    }
   ],
   "source": [
    "m=int(input())\n",
    "if(m>=80):\n",
    "    print(\"Prize!\")\n",
    "\n",
    "else:\n",
    "    print(\"Sorry\")"
   ]
  },
  {
   "cell_type": "code",
   "execution_count": 5,
   "id": "2fd773d0",
   "metadata": {},
   "outputs": [
    {
     "name": "stdout",
     "output_type": "stream",
     "text": [
      "34\n",
      "46\n",
      "46\n"
     ]
    }
   ],
   "source": [
    "x=int(input())\n",
    "y=int(input())\n",
    "if(x>y):\n",
    "    print(x)\n",
    "else:\n",
    "    print(y)"
   ]
  },
  {
   "cell_type": "code",
   "execution_count": 6,
   "id": "6084e06b",
   "metadata": {},
   "outputs": [
    {
     "name": "stdout",
     "output_type": "stream",
     "text": [
      "33\n",
      "44\n",
      "44\n",
      "44\n"
     ]
    }
   ],
   "source": [
    "x=int(input())\n",
    "y=int(input())\n",
    "z=int(input())\n",
    "if(x>y):\n",
    "    b=x\n",
    "elif(x==y):\n",
    "    b=x\n",
    "else:\n",
    "    b=y\n",
    "if(b>z):\n",
    "    print(b)\n",
    "elif(b==z):\n",
    "    print(b)\n",
    "else:\n",
    "    print(z)\n",
    "\n",
    "\n"
   ]
  },
  {
   "cell_type": "code",
   "execution_count": null,
   "id": "daef468b",
   "metadata": {},
   "outputs": [],
   "source": []
  }
 ],
 "metadata": {
  "kernelspec": {
   "display_name": "Python 3 (ipykernel)",
   "language": "python",
   "name": "python3"
  },
  "language_info": {
   "codemirror_mode": {
    "name": "ipython",
    "version": 3
   },
   "file_extension": ".py",
   "mimetype": "text/x-python",
   "name": "python",
   "nbconvert_exporter": "python",
   "pygments_lexer": "ipython3",
   "version": "3.11.5"
  }
 },
 "nbformat": 4,
 "nbformat_minor": 5
}
