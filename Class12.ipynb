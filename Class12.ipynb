{
 "cells": [
  {
   "cell_type": "code",
   "execution_count": 3,
   "id": "2a57d5f4",
   "metadata": {},
   "outputs": [
    {
     "name": "stdout",
     "output_type": "stream",
     "text": [
      "Nahid\n"
     ]
    }
   ],
   "source": [
    "def name():\n",
    "    print(\"Nahid\")\n",
    "name()"
   ]
  },
  {
   "cell_type": "code",
   "execution_count": 13,
   "id": "55303059",
   "metadata": {},
   "outputs": [
    {
     "name": "stdout",
     "output_type": "stream",
     "text": [
      "7\n",
      "8\n"
     ]
    }
   ],
   "source": [
    "def sumation(x,y):\n",
    "    result=x+y\n",
    "    return result\n",
    "def multi(x,y):\n",
    "    rem=(x*y)\n",
    "    return rem\n",
    "    \n",
    "re=sumation(3,4)\n",
    "r2=multi(4,2)\n",
    "print(re)\n",
    "print(r2)\n",
    "\n"
   ]
  },
  {
   "cell_type": "code",
   "execution_count": 14,
   "id": "a7cf1cb8",
   "metadata": {},
   "outputs": [
    {
     "name": "stdout",
     "output_type": "stream",
     "text": [
      "34\n"
     ]
    }
   ],
   "source": [
    "m=(2,34,5,6,7)\n",
    "print(max(m))"
   ]
  },
  {
   "cell_type": "code",
   "execution_count": 15,
   "id": "6f88b8b0",
   "metadata": {},
   "outputs": [
    {
     "name": "stdout",
     "output_type": "stream",
     "text": [
      "5\n"
     ]
    }
   ],
   "source": [
    "print(len(m))"
   ]
  },
  {
   "cell_type": "code",
   "execution_count": 16,
   "id": "89518497",
   "metadata": {},
   "outputs": [
    {
     "name": "stdout",
     "output_type": "stream",
     "text": [
      "[1, 2, 3, 4, 5, 6, 7, 8, 9, 10]\n"
     ]
    }
   ],
   "source": [
    "s=[]\n",
    "for i in range (1,11):\n",
    "    \n",
    "    s.append(i)\n",
    "print(s)"
   ]
  },
  {
   "cell_type": "code",
   "execution_count": 19,
   "id": "264b87ab",
   "metadata": {},
   "outputs": [
    {
     "name": "stdout",
     "output_type": "stream",
     "text": [
      "HI\n"
     ]
    }
   ],
   "source": [
    "def myfun():\n",
    "    print(\"HI\")\n",
    "myfun()"
   ]
  },
  {
   "cell_type": "code",
   "execution_count": 32,
   "id": "90b5b684",
   "metadata": {},
   "outputs": [
    {
     "name": "stdout",
     "output_type": "stream",
     "text": [
      "76\n",
      "1802\n"
     ]
    }
   ],
   "source": [
    "def suma(x,y):\n",
    "    a=x+y\n",
    "    return a\n",
    "def mult(a,b):\n",
    "    m=a*b\n",
    "    return m\n",
    "b=suma(32,44)\n",
    "c=mult(34,53)\n",
    "print(b)\n",
    "print(c)"
   ]
  },
  {
   "cell_type": "code",
   "execution_count": 33,
   "id": "e0af495b",
   "metadata": {},
   "outputs": [
    {
     "name": "stdout",
     "output_type": "stream",
     "text": [
      "88\n"
     ]
    }
   ],
   "source": [
    "s=(2,4,5,77,8,88)\n",
    "print(max(s))"
   ]
  },
  {
   "cell_type": "code",
   "execution_count": 34,
   "id": "be27101e",
   "metadata": {},
   "outputs": [
    {
     "data": {
      "text/plain": [
       "6"
      ]
     },
     "execution_count": 34,
     "metadata": {},
     "output_type": "execute_result"
    }
   ],
   "source": [
    "len(s)"
   ]
  },
  {
   "cell_type": "code",
   "execution_count": 2,
   "id": "b105ffd3",
   "metadata": {},
   "outputs": [
    {
     "name": "stdout",
     "output_type": "stream",
     "text": [
      "[1, 2, 3, 4, 5, 6, 7, 8, 9, 10]\n"
     ]
    }
   ],
   "source": [
    "s=[]\n",
    "for i in range (1,11):\n",
    "    s.append(i)\n",
    "print(s)"
   ]
  },
  {
   "cell_type": "code",
   "execution_count": 5,
   "id": "946ab73c",
   "metadata": {},
   "outputs": [
    {
     "name": "stdout",
     "output_type": "stream",
     "text": [
      "Nahid\n"
     ]
    }
   ],
   "source": [
    "def name():\n",
    "    print(\"Nahid\")\n",
    "name()"
   ]
  },
  {
   "cell_type": "code",
   "execution_count": 6,
   "id": "14186a00",
   "metadata": {},
   "outputs": [
    {
     "name": "stdout",
     "output_type": "stream",
     "text": [
      "Nahid\n"
     ]
    }
   ],
   "source": [
    "name()"
   ]
  },
  {
   "cell_type": "code",
   "execution_count": 10,
   "id": "d5b7c184",
   "metadata": {},
   "outputs": [],
   "source": [
    "def suma(x,y):\n",
    "    r=x+y\n",
    "    return r\n",
    "a=suma(3,4)"
   ]
  },
  {
   "cell_type": "code",
   "execution_count": 11,
   "id": "0ea79943",
   "metadata": {},
   "outputs": [
    {
     "name": "stdout",
     "output_type": "stream",
     "text": [
      "7\n"
     ]
    }
   ],
   "source": [
    "print(a)"
   ]
  },
  {
   "cell_type": "code",
   "execution_count": 9,
   "id": "75a877bc",
   "metadata": {},
   "outputs": [
    {
     "name": "stdout",
     "output_type": "stream",
     "text": [
      "92\n"
     ]
    }
   ],
   "source": [
    "suma(4,88)"
   ]
  },
  {
   "cell_type": "code",
   "execution_count": 14,
   "id": "c2df366c",
   "metadata": {},
   "outputs": [
    {
     "name": "stdout",
     "output_type": "stream",
     "text": [
      "6\n",
      "113.0976\n"
     ]
    }
   ],
   "source": [
    "def circel(r):\n",
    "    area=3.1416*r**2\n",
    "    return area\n",
    "x=int(input())\n",
    "a=circel(x)\n",
    "print(a)"
   ]
  },
  {
   "cell_type": "code",
   "execution_count": null,
   "id": "8848e5b0",
   "metadata": {},
   "outputs": [],
   "source": []
  }
 ],
 "metadata": {
  "kernelspec": {
   "display_name": "Python 3 (ipykernel)",
   "language": "python",
   "name": "python3"
  },
  "language_info": {
   "codemirror_mode": {
    "name": "ipython",
    "version": 3
   },
   "file_extension": ".py",
   "mimetype": "text/x-python",
   "name": "python",
   "nbconvert_exporter": "python",
   "pygments_lexer": "ipython3",
   "version": "3.11.5"
  }
 },
 "nbformat": 4,
 "nbformat_minor": 5
}
